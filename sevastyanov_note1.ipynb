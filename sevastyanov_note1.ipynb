{
 "cells": [
  {
   "cell_type": "code",
   "execution_count": 1,
   "id": "58a34f78",
   "metadata": {},
   "outputs": [
    {
     "name": "stdout",
     "output_type": "stream",
     "text": [
      "Фраза 1 длиннее фразы 2\n",
      "Фраза 2 длиннее фразы 1\n",
      "Фразы равной длины\n"
     ]
    }
   ],
   "source": [
    "# Задание 1\n",
    "\n",
    "def checkLen(a, b):\n",
    "    l1 = len(phrase_1)\n",
    "    l2 = len(phrase_2)\n",
    "    if (l1 > l2):\n",
    "        print('Фраза 1 длиннее фразы 2')\n",
    "    elif (l1 == l2):\n",
    "        print('Фразы равной длины')\n",
    "    else:\n",
    "        print('Фраза 2 длиннее фразы 1')\n",
    "        return\n",
    "    \n",
    "phrase_1 = 'Насколько проще было бы писать программы, если бы не заказчики'\n",
    "phrase_2 = '640Кб должно хватить для любых задач. Билл Гейтс (по легенде)'\n",
    "\n",
    "checkLen(phrase_1,phrase_2)\n",
    "\n",
    "phrase_1 = '640Кб должно хватить для любых задач. Билл Гейтс (по легенде)'\n",
    "phrase_2 = 'Насколько проще было бы писать программы, если бы не заказчики'\n",
    "\n",
    "checkLen(phrase_1,phrase_2)\n",
    "\n",
    "phrase_1 = 'Насколько проще было бы писать программы, если бы не заказчики'\n",
    "phrase_2 = 'Насколько проще было бы писать программы, если бы не заказчики'\n",
    "\n",
    "checkLen(phrase_1,phrase_2)\n"
   ]
  },
  {
   "cell_type": "code",
   "execution_count": 2,
   "id": "8799bc33",
   "metadata": {},
   "outputs": [
    {
     "name": "stdout",
     "output_type": "stream",
     "text": [
      "2020 високосный год\n",
      "2022 обычный год\n"
     ]
    }
   ],
   "source": [
    "# Задание 2\n",
    "\n",
    "def checkLeapYear(year):\n",
    "    if (year%4 == 0):\n",
    "        print('%s високосный год' % year)\n",
    "    else:\n",
    "        print('%s обычный год' % year)\n",
    "    return\n",
    "\n",
    "checkLeapYear(2020)\n",
    "checkLeapYear(2022)"
   ]
  },
  {
   "cell_type": "code",
   "execution_count": 3,
   "id": "e8ca25ba",
   "metadata": {},
   "outputs": [
    {
     "name": "stdout",
     "output_type": "stream",
     "text": [
      "Введите день: 1\n",
      "Введите месяц: 1\n",
      "Ваш знак знак зодиака: Казерог\n"
     ]
    }
   ],
   "source": [
    "# Задание 3\n",
    "\n",
    "from datetime import datetime\n",
    "\n",
    "def dayOfYear(d, m):\n",
    "    try:\n",
    "        return (datetime.strptime('21-%s-%s' % (m,d), '%y-%m-%d').timetuple().tm_yday)\n",
    "    except ValueError:\n",
    "        print('Введены некорректные параметры: день %s, месяц %s' % (d, m))\n",
    "        return 0\n",
    "\n",
    "def showZodiac(d, m):\n",
    "    \n",
    "    dayNum = dayOfYear(d, m)\n",
    "    \n",
    "    if (0 < dayNum):\n",
    "    \n",
    "        kazer = dayOfYear(20, 1)\n",
    "        vodol = dayOfYear(18, 2)\n",
    "        rybi = dayOfYear(20, 3)\n",
    "        oven = dayOfYear(19, 4)\n",
    "        telec = dayOfYear(20, 5)\n",
    "        bliz = dayOfYear(21, 6)\n",
    "        rak = dayOfYear(22, 7)\n",
    "        lion = dayOfYear(22, 8)\n",
    "        dev = dayOfYear(22, 9)\n",
    "        ves = dayOfYear(23, 10)\n",
    "        scorp = dayOfYear(22, 11)\n",
    "        strel = dayOfYear(22, 12)\n",
    "\n",
    "        zodiacValue = ''\n",
    "\n",
    "        if (dayNum >= strel or dayNum < kazer):\n",
    "            zodiacValue = 'Казерог'\n",
    "        elif (dayNum < vodol):\n",
    "            zodiacValue = 'Водолей'\n",
    "        elif (dayNum < rybi):\n",
    "            zodiacValue = 'Рыбы'\n",
    "        elif (dayNum < oven):\n",
    "            zodiacValue = 'Овен'\n",
    "        elif (dayNum < telec):\n",
    "            zodiacValue = 'Телец'\n",
    "        elif (dayNum < bliz):\n",
    "            zodiacValue = 'Близнецы'\n",
    "        elif (dayNum < rak):\n",
    "            zodiacValue = 'Рак'\n",
    "        elif (dayNum < lion):\n",
    "            zodiacValue = 'Лев'\n",
    "        elif (dayNum < dev):\n",
    "            zodiacValue = 'Дева'\n",
    "        elif (dayNum < ves):\n",
    "            zodiacValue = 'Весы'\n",
    "        elif (dayNum < scorp):\n",
    "            zodiacValue = 'Скорпион'\n",
    "        elif (dayNum < strel):\n",
    "            zodiacValue = 'Стрелец'\n",
    "        else:\n",
    "            zodiacValue = 'Ты питон' # недостижимый блок\n",
    "\n",
    "        print('Ваш знак знак зодиака: %s' % zodiacValue)\n",
    "        return\n",
    "\n",
    "day = input('Введите день: ')\n",
    "month = input('Введите месяц: ')\n",
    "\n",
    "showZodiac(day, month)\n",
    "    "
   ]
  },
  {
   "cell_type": "code",
   "execution_count": 4,
   "id": "025e7411",
   "metadata": {},
   "outputs": [
    {
     "name": "stdout",
     "output_type": "stream",
     "text": [
      "width = 1\n",
      "length = 2\n",
      "height = 2\n",
      "Коробка №1\n"
     ]
    }
   ],
   "source": [
    "# Задание 4\n",
    "\n",
    "width = int(input('width = '))\n",
    "length = int(input('length = '))\n",
    "height = int(input('height = '))\n",
    "\n",
    "def box2Size(s):\n",
    "    return (s > 15 and s < 50)\n",
    "\n",
    "if (width <= 15 and length <= 15 and height <= 15):\n",
    "    print('Коробка №1')\n",
    "elif (box2Size(width) or box2Size(length) or box2Size(height)):\n",
    "    print('Коробка №2')\n",
    "elif (length > 200):\n",
    "    print('Упаковка для лыж')\n",
    "else:\n",
    "    print('Стандартная коробка №3')\n"
   ]
  },
  {
   "cell_type": "code",
   "execution_count": 22,
   "id": "812f5491",
   "metadata": {},
   "outputs": [
    {
     "name": "stdout",
     "output_type": "stream",
     "text": [
      "Введите число 6-ти значное число: 123123\n",
      "Счастливый билет\n"
     ]
    }
   ],
   "source": [
    "def getNum(num):\n",
    "    try:\n",
    "        if len(num) == 6: return int(num) \n",
    "        else: \n",
    "            print('Длинна строки %s должна быть 6 цифр' % num)\n",
    "            -1\n",
    "    except:\n",
    "        print('Неверное число: %s' % num)\n",
    "        return -1\n",
    "\n",
    "valString = input('Введите число 6-ти значное число: ')\n",
    "\n",
    "val = getNum(valString)\n",
    "\n",
    "num1 = valString[0:3]\n",
    "# print(num1)\n",
    "\n",
    "num2 = valString[3:]\n",
    "# print(num2)\n",
    "\n",
    "if (int(num1) == int(num2)):\n",
    "    print('Счастливый билет')\n",
    "else:\n",
    "    print('Несчастливый билет')"
   ]
  },
  {
   "cell_type": "code",
   "execution_count": null,
   "id": "1bf6f7f8",
   "metadata": {},
   "outputs": [],
   "source": []
  }
 ],
 "metadata": {
  "kernelspec": {
   "display_name": "Python 3",
   "language": "python",
   "name": "python3"
  },
  "language_info": {
   "codemirror_mode": {
    "name": "ipython",
    "version": 3
   },
   "file_extension": ".py",
   "mimetype": "text/x-python",
   "name": "python",
   "nbconvert_exporter": "python",
   "pygments_lexer": "ipython3",
   "version": "3.8.8"
  }
 },
 "nbformat": 4,
 "nbformat_minor": 5
}
