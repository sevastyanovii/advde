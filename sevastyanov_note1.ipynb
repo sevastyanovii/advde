{
 "cells": [
  {
   "cell_type": "code",
   "execution_count": 1,
   "id": "2c8f4f48",
   "metadata": {},
   "outputs": [
    {
     "name": "stdout",
     "output_type": "stream",
     "text": [
      "Фраза 1 длиннее фразы 2\n",
      "Фраза 2 длиннее фразы 1\n",
      "Фразы равной длины\n"
     ]
    }
   ],
   "source": [
    "# Задание 1\n",
    "\n",
    "def checkLen(a, b):\n",
    "    l1 = len(phrase_1)\n",
    "    l2 = len(phrase_2)\n",
    "    if (l1 > l2):\n",
    "        print('Фраза 1 длиннее фразы 2')\n",
    "    elif (l1 == l2):\n",
    "        print('Фразы равной длины')\n",
    "    else:\n",
    "        print('Фраза 2 длиннее фразы 1')\n",
    "        return\n",
    "    \n",
    "phrase_1 = 'Насколько проще было бы писать программы, если бы не заказчики'\n",
    "phrase_2 = '640Кб должно хватить для любых задач. Билл Гейтс (по легенде)'\n",
    "\n",
    "checkLen(phrase_1,phrase_2)\n",
    "\n",
    "phrase_1 = '640Кб должно хватить для любых задач. Билл Гейтс (по легенде)'\n",
    "phrase_2 = 'Насколько проще было бы писать программы, если бы не заказчики'\n",
    "\n",
    "checkLen(phrase_1,phrase_2)\n",
    "\n",
    "phrase_1 = 'Насколько проще было бы писать программы, если бы не заказчики'\n",
    "phrase_2 = 'Насколько проще было бы писать программы, если бы не заказчики'\n",
    "\n",
    "checkLen(phrase_1,phrase_2)\n"
   ]
  },
  {
   "cell_type": "code",
   "execution_count": 2,
   "id": "91a9238b",
   "metadata": {},
   "outputs": [
    {
     "name": "stdout",
     "output_type": "stream",
     "text": [
      "2020 високосный год\n",
      "2022 обычный год\n"
     ]
    }
   ],
   "source": [
    "# Задание 2\n",
    "\n",
    "def checkLeapYear(year):\n",
    "    if (year%4 == 0):\n",
    "        print('%s високосный год' % year)\n",
    "    else:\n",
    "        print('%s обычный год' % year)\n",
    "    return\n",
    "\n",
    "checkLeapYear(2020)\n",
    "checkLeapYear(2022)"
   ]
  },
  {
   "cell_type": "code",
   "execution_count": 23,
   "id": "c1a27cfc",
   "metadata": {},
   "outputs": [
    {
     "name": "stdout",
     "output_type": "stream",
     "text": [
      "Введите день: 1\n",
      "Введите месяц: 12\n",
      "Стрелец\n"
     ]
    }
   ],
   "source": [
    "from datetime import datetime\n",
    "\n",
    "def dayOfYear(d, m):\n",
    "    return (datetime.strptime('21-%s-%s' % (m,d), '%y-%m-%d').timetuple().tm_yday)\n",
    "\n",
    "def showZodiac(d, m):\n",
    "    \n",
    "    dayNum = dayOfYear(d, m)\n",
    "    kazer = dayOfYear(20, 1)\n",
    "    vodol = dayOfYear(18, 2)\n",
    "    rybi = dayOfYear(20, 3)\n",
    "    oven = dayOfYear(19, 4)\n",
    "    telec = dayOfYear(20, 5)\n",
    "    bliz = dayOfYear(21, 6)\n",
    "    rak = dayOfYear(22, 7)\n",
    "    lion = dayOfYear(22, 8)\n",
    "    dev = dayOfYear(22, 9)\n",
    "    ves = dayOfYear(23, 10)\n",
    "    scorp = dayOfYear(22, 11)\n",
    "    strel = dayOfYear(22, 12)\n",
    "    \n",
    "    if (dayNum >= strel or dayNum < kazer):\n",
    "        print('Казерог')\n",
    "    elif (dayNum < vodol):\n",
    "        print('Водолей')\n",
    "    elif (dayNum < rybi):\n",
    "        print('Рыбы')\n",
    "    elif (dayNum < oven):\n",
    "        print('Овен')\n",
    "    elif (dayNum < telec):\n",
    "        print('Телец')\n",
    "    elif (dayNum < bliz):\n",
    "        print('Близнецы')\n",
    "    elif (dayNum < rak):\n",
    "        print('Рак')\n",
    "    elif (dayNum < lion):\n",
    "        print('Лев')\n",
    "    elif (dayNum < dev):\n",
    "        print('Дева')\n",
    "    elif (dayNum < ves):\n",
    "        print('Весы')\n",
    "    elif (dayNum < scorp):\n",
    "        print('Скорпион')\n",
    "    elif (dayNum < strel):\n",
    "        print('Стрелец')\n",
    "    else:\n",
    "        print('Ты питон')\n",
    "    \n",
    "    return\n",
    "\n",
    "day = input('Введите день: ')\n",
    "month = input('Введите месяц: ')\n",
    "\n",
    "showZodiac(day, month)\n",
    "\n",
    "\n",
    "\n",
    "    "
   ]
  },
  {
   "cell_type": "code",
   "execution_count": null,
   "id": "986cc3fc",
   "metadata": {},
   "outputs": [],
   "source": []
  }
 ],
 "metadata": {
  "kernelspec": {
   "display_name": "Python 3",
   "language": "python",
   "name": "python3"
  },
  "language_info": {
   "codemirror_mode": {
    "name": "ipython",
    "version": 3
   },
   "file_extension": ".py",
   "mimetype": "text/x-python",
   "name": "python",
   "nbconvert_exporter": "python",
   "pygments_lexer": "ipython3",
   "version": "3.8.8"
  }
 },
 "nbformat": 4,
 "nbformat_minor": 5
}
