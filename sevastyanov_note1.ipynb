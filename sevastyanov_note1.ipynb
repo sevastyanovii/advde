{
 "cells": [
  {
   "cell_type": "code",
   "execution_count": 1,
   "id": "09c35ec2",
   "metadata": {},
   "outputs": [
    {
     "name": "stdout",
     "output_type": "stream",
     "text": [
      "Фраза 1 длиннее фразы 2\n",
      "Фраза 2 длиннее фразы 1\n",
      "Фразы равной длины\n"
     ]
    }
   ],
   "source": [
    "# Задание 1\n",
    "\n",
    "def checkLen(a, b):\n",
    "    l1 = len(phrase_1)\n",
    "    l2 = len(phrase_2)\n",
    "    if (l1 > l2):\n",
    "        print('Фраза 1 длиннее фразы 2')\n",
    "    elif (l1 == l2):\n",
    "        print('Фразы равной длины')\n",
    "    else:\n",
    "        print('Фраза 2 длиннее фразы 1')\n",
    "        return\n",
    "    \n",
    "phrase_1 = 'Насколько проще было бы писать программы, если бы не заказчики'\n",
    "phrase_2 = '640Кб должно хватить для любых задач. Билл Гейтс (по легенде)'\n",
    "\n",
    "checkLen(phrase_1,phrase_2)\n",
    "\n",
    "phrase_1 = '640Кб должно хватить для любых задач. Билл Гейтс (по легенде)'\n",
    "phrase_2 = 'Насколько проще было бы писать программы, если бы не заказчики'\n",
    "\n",
    "checkLen(phrase_1,phrase_2)\n",
    "\n",
    "phrase_1 = 'Насколько проще было бы писать программы, если бы не заказчики'\n",
    "phrase_2 = 'Насколько проще было бы писать программы, если бы не заказчики'\n",
    "\n",
    "checkLen(phrase_1,phrase_2)\n"
   ]
  },
  {
   "cell_type": "code",
   "execution_count": 2,
   "id": "a85eb14b",
   "metadata": {},
   "outputs": [
    {
     "name": "stdout",
     "output_type": "stream",
     "text": [
      "2020 високосный год\n",
      "2022 обычный год\n"
     ]
    }
   ],
   "source": [
    "# Задание 2\n",
    "\n",
    "def checkLeapYear(year):\n",
    "    if (year%4 == 0):\n",
    "        print('%s високосный год' % year)\n",
    "    else:\n",
    "        print('%s обычный год' % year)\n",
    "    return\n",
    "\n",
    "checkLeapYear(2020)\n",
    "checkLeapYear(2022)"
   ]
  },
  {
   "cell_type": "code",
   "execution_count": 3,
   "id": "c3a69c54",
   "metadata": {},
   "outputs": [
    {
     "ename": "KeyboardInterrupt",
     "evalue": "Interrupted by user",
     "output_type": "error",
     "traceback": [
      "\u001b[1;31m---------------------------------------------------------------------------\u001b[0m",
      "\u001b[1;31mKeyboardInterrupt\u001b[0m                         Traceback (most recent call last)",
      "\u001b[1;32m<ipython-input-3-cb36c0d9527e>\u001b[0m in \u001b[0;36m<module>\u001b[1;34m\u001b[0m\n\u001b[0;32m     62\u001b[0m         \u001b[1;32mreturn\u001b[0m\u001b[1;33m\u001b[0m\u001b[1;33m\u001b[0m\u001b[0m\n\u001b[0;32m     63\u001b[0m \u001b[1;33m\u001b[0m\u001b[0m\n\u001b[1;32m---> 64\u001b[1;33m \u001b[0mday\u001b[0m \u001b[1;33m=\u001b[0m \u001b[0minput\u001b[0m\u001b[1;33m(\u001b[0m\u001b[1;34m'Введите день: '\u001b[0m\u001b[1;33m)\u001b[0m\u001b[1;33m\u001b[0m\u001b[1;33m\u001b[0m\u001b[0m\n\u001b[0m\u001b[0;32m     65\u001b[0m \u001b[0mmonth\u001b[0m \u001b[1;33m=\u001b[0m \u001b[0minput\u001b[0m\u001b[1;33m(\u001b[0m\u001b[1;34m'Введите месяц: '\u001b[0m\u001b[1;33m)\u001b[0m\u001b[1;33m\u001b[0m\u001b[1;33m\u001b[0m\u001b[0m\n\u001b[0;32m     66\u001b[0m \u001b[1;33m\u001b[0m\u001b[0m\n",
      "\u001b[1;32m~\\develop\\anaconda3\\lib\\site-packages\\ipykernel\\kernelbase.py\u001b[0m in \u001b[0;36mraw_input\u001b[1;34m(self, prompt)\u001b[0m\n\u001b[0;32m    858\u001b[0m                 \u001b[1;34m\"raw_input was called, but this frontend does not support input requests.\"\u001b[0m\u001b[1;33m\u001b[0m\u001b[1;33m\u001b[0m\u001b[0m\n\u001b[0;32m    859\u001b[0m             )\n\u001b[1;32m--> 860\u001b[1;33m         return self._input_request(str(prompt),\n\u001b[0m\u001b[0;32m    861\u001b[0m             \u001b[0mself\u001b[0m\u001b[1;33m.\u001b[0m\u001b[0m_parent_ident\u001b[0m\u001b[1;33m,\u001b[0m\u001b[1;33m\u001b[0m\u001b[1;33m\u001b[0m\u001b[0m\n\u001b[0;32m    862\u001b[0m             \u001b[0mself\u001b[0m\u001b[1;33m.\u001b[0m\u001b[0m_parent_header\u001b[0m\u001b[1;33m,\u001b[0m\u001b[1;33m\u001b[0m\u001b[1;33m\u001b[0m\u001b[0m\n",
      "\u001b[1;32m~\\develop\\anaconda3\\lib\\site-packages\\ipykernel\\kernelbase.py\u001b[0m in \u001b[0;36m_input_request\u001b[1;34m(self, prompt, ident, parent, password)\u001b[0m\n\u001b[0;32m    902\u001b[0m             \u001b[1;32mexcept\u001b[0m \u001b[0mKeyboardInterrupt\u001b[0m\u001b[1;33m:\u001b[0m\u001b[1;33m\u001b[0m\u001b[1;33m\u001b[0m\u001b[0m\n\u001b[0;32m    903\u001b[0m                 \u001b[1;31m# re-raise KeyboardInterrupt, to truncate traceback\u001b[0m\u001b[1;33m\u001b[0m\u001b[1;33m\u001b[0m\u001b[1;33m\u001b[0m\u001b[0m\n\u001b[1;32m--> 904\u001b[1;33m                 \u001b[1;32mraise\u001b[0m \u001b[0mKeyboardInterrupt\u001b[0m\u001b[1;33m(\u001b[0m\u001b[1;34m\"Interrupted by user\"\u001b[0m\u001b[1;33m)\u001b[0m \u001b[1;32mfrom\u001b[0m \u001b[1;32mNone\u001b[0m\u001b[1;33m\u001b[0m\u001b[1;33m\u001b[0m\u001b[0m\n\u001b[0m\u001b[0;32m    905\u001b[0m             \u001b[1;32mexcept\u001b[0m \u001b[0mException\u001b[0m \u001b[1;32mas\u001b[0m \u001b[0me\u001b[0m\u001b[1;33m:\u001b[0m\u001b[1;33m\u001b[0m\u001b[1;33m\u001b[0m\u001b[0m\n\u001b[0;32m    906\u001b[0m                 \u001b[0mself\u001b[0m\u001b[1;33m.\u001b[0m\u001b[0mlog\u001b[0m\u001b[1;33m.\u001b[0m\u001b[0mwarning\u001b[0m\u001b[1;33m(\u001b[0m\u001b[1;34m\"Invalid Message:\"\u001b[0m\u001b[1;33m,\u001b[0m \u001b[0mexc_info\u001b[0m\u001b[1;33m=\u001b[0m\u001b[1;32mTrue\u001b[0m\u001b[1;33m)\u001b[0m\u001b[1;33m\u001b[0m\u001b[1;33m\u001b[0m\u001b[0m\n",
      "\u001b[1;31mKeyboardInterrupt\u001b[0m: Interrupted by user"
     ]
    }
   ],
   "source": [
    "# Задание 3\n",
    "\n",
    "from datetime import datetime\n",
    "\n",
    "def dayOfYear(d, m):\n",
    "    try:\n",
    "        return (datetime.strptime('21-%s-%s' % (m,d), '%y-%m-%d').timetuple().tm_yday)\n",
    "    except ValueError:\n",
    "        print('Введены некорректные параметры: день %s, месяц %s' % (d, m))\n",
    "        return 0\n",
    "\n",
    "def showZodiac(d, m):\n",
    "    \n",
    "    dayNum = dayOfYear(d, m)\n",
    "    \n",
    "    if (0 < dayNum):\n",
    "    \n",
    "        kazer = dayOfYear(20, 1)\n",
    "        vodol = dayOfYear(18, 2)\n",
    "        rybi = dayOfYear(20, 3)\n",
    "        oven = dayOfYear(19, 4)\n",
    "        telec = dayOfYear(20, 5)\n",
    "        bliz = dayOfYear(21, 6)\n",
    "        rak = dayOfYear(22, 7)\n",
    "        lion = dayOfYear(22, 8)\n",
    "        dev = dayOfYear(22, 9)\n",
    "        ves = dayOfYear(23, 10)\n",
    "        scorp = dayOfYear(22, 11)\n",
    "        strel = dayOfYear(22, 12)\n",
    "\n",
    "        zodiacValue = ''\n",
    "\n",
    "        if (dayNum >= strel or dayNum < kazer):\n",
    "            zodiacValue = 'Казерог'\n",
    "        elif (dayNum < vodol):\n",
    "            zodiacValue = 'Водолей'\n",
    "        elif (dayNum < rybi):\n",
    "            zodiacValue = 'Рыбы'\n",
    "        elif (dayNum < oven):\n",
    "            zodiacValue = 'Овен'\n",
    "        elif (dayNum < telec):\n",
    "            zodiacValue = 'Телец'\n",
    "        elif (dayNum < bliz):\n",
    "            zodiacValue = 'Близнецы'\n",
    "        elif (dayNum < rak):\n",
    "            zodiacValue = 'Рак'\n",
    "        elif (dayNum < lion):\n",
    "            zodiacValue = 'Лев'\n",
    "        elif (dayNum < dev):\n",
    "            zodiacValue = 'Дева'\n",
    "        elif (dayNum < ves):\n",
    "            zodiacValue = 'Весы'\n",
    "        elif (dayNum < scorp):\n",
    "            zodiacValue = 'Скорпион'\n",
    "        elif (dayNum < strel):\n",
    "            zodiacValue = 'Стрелец'\n",
    "        else:\n",
    "            zodiacValue = 'Ты питон' # недостижимый блок\n",
    "\n",
    "#         print('Ваш знак знак зодиака: %s' % zodiacValue)\n",
    "        print(f'Ваш знак знак зодиака: {zodiacValue}')\n",
    "        return\n",
    "\n",
    "day = input('Введите день: ')\n",
    "month = input('Введите месяц: ')\n",
    "\n",
    "showZodiac(day, month)\n",
    "    "
   ]
  },
  {
   "cell_type": "code",
   "execution_count": null,
   "id": "e48ed82e",
   "metadata": {},
   "outputs": [],
   "source": [
    "# Задание 4\n",
    "\n",
    "width = int(input('width = '))\n",
    "length = int(input('length = '))\n",
    "height = int(input('height = '))\n",
    "\n",
    "def box2Size(s):\n",
    "    return (s > 15 and s < 50)\n",
    "\n",
    "if (width <= 15 and length <= 15 and height <= 15):\n",
    "    print('Коробка №1')\n",
    "elif (box2Size(width) or box2Size(length) or box2Size(height)):\n",
    "    print('Коробка №2')\n",
    "elif (length > 200):\n",
    "    print('Упаковка для лыж')\n",
    "else:\n",
    "    print('Стандартная коробка №3')\n"
   ]
  },
  {
   "cell_type": "code",
   "execution_count": 5,
   "id": "468902f3",
   "metadata": {},
   "outputs": [
    {
     "name": "stdout",
     "output_type": "stream",
     "text": [
      "Введите число 6-ти значное число: 123321\n",
      "Счастливый билет\n"
     ]
    }
   ],
   "source": [
    "# Задание 5\n",
    "\n",
    "def getNum(num):\n",
    "    try:\n",
    "        if len(num) == 6: return int(num) \n",
    "        else: \n",
    "            print('Длинна строки %s должна быть 6 цифр' % num)\n",
    "            -1\n",
    "    except:\n",
    "        print('Неверное число: %s' % num)\n",
    "        return -1\n",
    "\n",
    "\n",
    "valString = input('Введите число 6-ти значное число: ')\n",
    "\n",
    "val = getNum(valString)\n",
    "\n",
    "num1 = sum([int(x) for x in list(valString[0:3])] )\n",
    "\n",
    "num2 = sum([int(x) for x in list(valString[3:])])\n",
    "\n",
    "if (int(num1) == int(num2)):\n",
    "    print('Счастливый билет')\n",
    "else:\n",
    "    print('Несчастливый билет')"
   ]
  },
  {
   "cell_type": "code",
   "execution_count": null,
   "id": "77ffa748",
   "metadata": {},
   "outputs": [],
   "source": []
  }
 ],
 "metadata": {
  "kernelspec": {
   "display_name": "Python 3",
   "language": "python",
   "name": "python3"
  },
  "language_info": {
   "codemirror_mode": {
    "name": "ipython",
    "version": 3
   },
   "file_extension": ".py",
   "mimetype": "text/x-python",
   "name": "python",
   "nbconvert_exporter": "python",
   "pygments_lexer": "ipython3",
   "version": "3.8.8"
  }
 },
 "nbformat": 4,
 "nbformat_minor": 5
}
