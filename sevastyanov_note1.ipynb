{
 "cells": [
  {
   "cell_type": "code",
   "execution_count": 70,
   "id": "18094bcf",
   "metadata": {},
   "outputs": [
    {
     "name": "stdout",
     "output_type": "stream",
     "text": [
      "Фраза 1 длиннее фразы 2\n",
      "Фраза 2 длиннее фразы 1\n",
      "Фразы равной длины\n"
     ]
    }
   ],
   "source": [
    "# Задание 1\n",
    "\n",
    "def checkLen(a, b):\n",
    "    l1 = len(phrase_1)\n",
    "    l2 = len(phrase_2)\n",
    "    if (l1 > l2):\n",
    "        print('Фраза 1 длиннее фразы 2')\n",
    "    elif (l1 == l2):\n",
    "        print('Фразы равной длины')\n",
    "    else:\n",
    "        print('Фраза 2 длиннее фразы 1')\n",
    "        return\n",
    "    \n",
    "phrase_1 = 'Насколько проще было бы писать программы, если бы не заказчики'\n",
    "phrase_2 = '640Кб должно хватить для любых задач. Билл Гейтс (по легенде)'\n",
    "\n",
    "checkLen(phrase_1,phrase_2)\n",
    "\n",
    "phrase_1 = '640Кб должно хватить для любых задач. Билл Гейтс (по легенде)'\n",
    "phrase_2 = 'Насколько проще было бы писать программы, если бы не заказчики'\n",
    "\n",
    "checkLen(phrase_1,phrase_2)\n",
    "\n",
    "phrase_1 = 'Насколько проще было бы писать программы, если бы не заказчики'\n",
    "phrase_2 = 'Насколько проще было бы писать программы, если бы не заказчики'\n",
    "\n",
    "checkLen(phrase_1,phrase_2)\n"
   ]
  },
  {
   "cell_type": "code",
   "execution_count": 71,
   "id": "e936ab58",
   "metadata": {},
   "outputs": [
    {
     "name": "stdout",
     "output_type": "stream",
     "text": [
      "2020 високосный год\n",
      "2022 обычный год\n"
     ]
    }
   ],
   "source": [
    "# Задание 2\n",
    "\n",
    "def checkLeapYear(year):\n",
    "    if (year%4 == 0):\n",
    "        print('%s високосный год' % year)\n",
    "    else:\n",
    "        print('%s обычный год' % year)\n",
    "    return\n",
    "\n",
    "checkLeapYear(2020)\n",
    "checkLeapYear(2022)"
   ]
  }
 ],
 "metadata": {
  "kernelspec": {
   "display_name": "Python 3",
   "language": "python",
   "name": "python3"
  },
  "language_info": {
   "codemirror_mode": {
    "name": "ipython",
    "version": 3
   },
   "file_extension": ".py",
   "mimetype": "text/x-python",
   "name": "python",
   "nbconvert_exporter": "python",
   "pygments_lexer": "ipython3",
   "version": "3.8.8"
  }
 },
 "nbformat": 4,
 "nbformat_minor": 5
}
