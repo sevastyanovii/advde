{
 "cells": [
  {
   "cell_type": "code",
   "execution_count": 55,
   "id": "090f6e92",
   "metadata": {},
   "outputs": [
    {
     "name": "stdout",
     "output_type": "stream",
     "text": [
      "одноклассники\n",
      "одноклассники\n",
      "моя\n",
      "страница\n",
      "одноклассники\n",
      "фото\n"
     ]
    }
   ],
   "source": [
    "with open('data/keywords.csv', encoding='utf-8') as k:\n",
    "    with open('data/mapper_result.csv', 'w', encoding='utf-8') as r:\n",
    "        for i,line in enumerate(k):\n",
    "            for e in line.split(',')[0].split(' '):\n",
    "                print(e.strip('\\n'))"
   ]
  },
  {
   "cell_type": "code",
   "execution_count": 46,
   "id": "d2b69a71",
   "metadata": {},
   "outputs": [],
   "source": [
    "ww = None\n",
    "cntr = 0\n",
    "\n",
    "with open('data/reducer_result.csv', 'w', encoding='utf8') as r:\n",
    "    with open('data/shuffle_result.csv', encoding='utf8') as s:\n",
    "        for line in s:\n",
    "            cww = line.strip()\n",
    "            if (ww == None or ww == cww):\n",
    "                ww = cww\n",
    "                cntr += 1\n",
    "            else:\n",
    "                #print(f'{ww},{cntr}')\n",
    "                r.write(f'{ww},{cntr}\\n')\n",
    "                cntr = 1\n",
    "                ww = cww\n",
    "    r.write(f'{ww},{cntr}\\n')\n",
    "\n",
    "        "
   ]
  }
 ],
 "metadata": {
  "kernelspec": {
   "display_name": "Python 3",
   "language": "python",
   "name": "python3"
  },
  "language_info": {
   "codemirror_mode": {
    "name": "ipython",
    "version": 3
   },
   "file_extension": ".py",
   "mimetype": "text/x-python",
   "name": "python",
   "nbconvert_exporter": "python",
   "pygments_lexer": "ipython3",
   "version": "3.8.8"
  }
 },
 "nbformat": 4,
 "nbformat_minor": 5
}
