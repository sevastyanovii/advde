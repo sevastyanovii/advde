{
 "cells": [
  {
   "cell_type": "code",
   "execution_count": 1,
   "id": "865644e9",
   "metadata": {},
   "outputs": [
    {
     "name": "stdout",
     "output_type": "stream",
     "text": [
      "[{'type': 'passport', 'number': '2207 876234', 'name': 'Василий Гупкин'}, {'type': 'invoice', 'number': '11-2', 'name': 'Геннадий Покемонов'}, {'type': 'insurance', 'number': '10006', 'name': 'Аристарх Павлов'}]\n",
      "{'1': ['2207 876234', '11-2'], '2': ['10006'], '3': []}\n"
     ]
    }
   ],
   "source": [
    "documents = [\n",
    " {'type': 'passport', 'number': '2207 876234', 'name': 'Василий Гупкин'},\n",
    " {'type': 'invoice', 'number': '11-2', 'name': 'Геннадий Покемонов'},\n",
    " {'type': 'insurance', 'number': '10006', 'name': 'Аристарх Павлов'}\n",
    "]\n",
    "\n",
    "directories = {\n",
    " '1': ['2207 876234', '11-2'],\n",
    " '2': ['10006'],\n",
    " '3': []\n",
    "}\n",
    "\n",
    "print(documents)\n",
    "print(directories)"
   ]
  },
  {
   "cell_type": "code",
   "execution_count": null,
   "id": "20c7be13",
   "metadata": {},
   "outputs": [
    {
     "name": "stdout",
     "output_type": "stream",
     "text": [
      "Введите команду:\n",
      "ads\n",
      "Введите номер полки:\n",
      "\n",
      "Номер полки не может быть пустым\n",
      "Введите команду:\n",
      "ads\n",
      "Введите номер полки:\n",
      "3\n",
      "Такая полка уже существует. Текущий перечень полок: 1, 2, 3\n",
      "Введите команду:\n",
      "ads\n",
      "Введите номер полки:\n",
      "4\n",
      "Полка добавлена. Текущий перечень полок: 1, 2, 3, 4\n",
      "Введите команду:\n",
      "p\n",
      "Введите номер документа:\n",
      "1006\n",
      "Документ 1006 не найден в базе\n"
     ]
    }
   ],
   "source": [
    "# Задание 1,2,3,4\n",
    "\n",
    "def findDocByNum(num):\n",
    "    res = list(filter(lambda d: d['number'] == num, documents))\n",
    "    if (len(res) > 0):\n",
    "        return res[0]['name']\n",
    "    \n",
    "def findDir(num):\n",
    "    for x in directories:\n",
    "        if (num in directories[x]):\n",
    "            return x\n",
    "        \n",
    "def addDir(dirNum):\n",
    "    if (dirNum.strip() == ''):\n",
    "        print('Номер полки не может быть пустым')\n",
    "        return\n",
    "    if (len(list(filter(lambda c: c == dirNum, directories))) > 0):\n",
    "        print('Такая полка уже существует. Текущий перечень полок:', \\\n",
    "             ', '.join(list(directories.keys())))\n",
    "    else:\n",
    "        directories[dirNum] = []\n",
    "        print('Полка добавлена. Текущий перечень полок:', ', '.join(list(directories.keys())))\n",
    "\n",
    "while (True):\n",
    "    cmd = input('Введите команду:\\n')\n",
    "    cmd = cmd.strip();\n",
    "    if (cmd == 'q'):\n",
    "        break\n",
    "    elif(cmd in ['p', 's']):\n",
    "        n = input('Введите номер документа:\\n')\n",
    "        if (cmd == 'p'):\n",
    "            name = findDocByNum(n)\n",
    "            if (name != None):\n",
    "                print('Владелец документа:', name)\n",
    "            else:\n",
    "                print(f'Документ {n} не найден в базе')\n",
    "        elif (cmd == 's'):\n",
    "            d = findDir(n);\n",
    "            if (None == d):\n",
    "                print(f'Документ {n} не найден в базе')\n",
    "            else:\n",
    "                print('Документ хранится на полке:', d)\n",
    "    elif (cmd == 'l'):\n",
    "        t = list(map(lambda x: \"№: {}, тип: {}, владелец: {}, полка хранения: {}\"\\\n",
    "             .format(x['number'], x['type'], x['name'], findDir(x['number'])), documents))\n",
    "        for s in t:\n",
    "            print(s)\n",
    "    elif (cmd == 'ads'):\n",
    "        dirNum = input('Введите номер полки:\\n')\n",
    "        addDir(dirNum)\n",
    "    else:\n",
    "        print('Неизвестная команда:', cmd)\n",
    "        "
   ]
  },
  {
   "cell_type": "code",
   "execution_count": null,
   "id": "2705f2be",
   "metadata": {},
   "outputs": [],
   "source": []
  }
 ],
 "metadata": {
  "kernelspec": {
   "display_name": "Python 3",
   "language": "python",
   "name": "python3"
  },
  "language_info": {
   "codemirror_mode": {
    "name": "ipython",
    "version": 3
   },
   "file_extension": ".py",
   "mimetype": "text/x-python",
   "name": "python",
   "nbconvert_exporter": "python",
   "pygments_lexer": "ipython3",
   "version": "3.8.8"
  }
 },
 "nbformat": 4,
 "nbformat_minor": 5
}
