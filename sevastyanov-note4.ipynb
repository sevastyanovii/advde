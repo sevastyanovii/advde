{
 "cells": [
  {
   "cell_type": "code",
   "execution_count": 1,
   "id": "865644e9",
   "metadata": {},
   "outputs": [
    {
     "name": "stdout",
     "output_type": "stream",
     "text": [
      "[{'type': 'passport', 'number': '2207 876234', 'name': 'Василий Гупкин'}, {'type': 'invoice', 'number': '11-2', 'name': 'Геннадий Покемонов'}, {'type': 'insurance', 'number': '10006', 'name': 'Аристарх Павлов'}]\n"
     ]
    }
   ],
   "source": [
    "documents = [\n",
    " {'type': 'passport', 'number': '2207 876234', 'name': 'Василий Гупкин'},\n",
    " {'type': 'invoice', 'number': '11-2', 'name': 'Геннадий Покемонов'},\n",
    " {'type': 'insurance', 'number': '10006', 'name': 'Аристарх Павлов'}\n",
    "]\n",
    "\n",
    "print(documents)"
   ]
  },
  {
   "cell_type": "code",
   "execution_count": 2,
   "id": "20c7be13",
   "metadata": {},
   "outputs": [
    {
     "name": "stdout",
     "output_type": "stream",
     "text": [
      "Введите команду:\n",
      "p\n",
      "Введите номер документа:\n",
      "2207 876234\n",
      "Владелец документа: Василий Гупкин\n",
      "Введите команду:\n",
      "q\n"
     ]
    }
   ],
   "source": [
    "##  filter(lambda x: x % 2 == 0, lst)\n",
    "\n",
    "def findDocByNum(num):\n",
    "    res = list(filter(lambda d: d['number'] == num, documents))\n",
    "    if (len(res) > 0):\n",
    "        return res[0]['name']\n",
    "\n",
    "while (True):\n",
    "    cmd = input('Введите команду:\\n')\n",
    "    if (cmd.strip() == 'q'):\n",
    "        break\n",
    "    else:\n",
    "        n = input('Введите номер документа:\\n')\n",
    "        name = findDocByNum(n)\n",
    "        if (name != None):\n",
    "            print('Владелец документа:', name)\n",
    "        else:\n",
    "            print('Документ не найден в базе')"
   ]
  }
 ],
 "metadata": {
  "kernelspec": {
   "display_name": "Python 3",
   "language": "python",
   "name": "python3"
  },
  "language_info": {
   "codemirror_mode": {
    "name": "ipython",
    "version": 3
   },
   "file_extension": ".py",
   "mimetype": "text/x-python",
   "name": "python",
   "nbconvert_exporter": "python",
   "pygments_lexer": "ipython3",
   "version": "3.8.8"
  }
 },
 "nbformat": 4,
 "nbformat_minor": 5
}
