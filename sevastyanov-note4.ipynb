{
 "cells": [
  {
   "cell_type": "code",
   "execution_count": 7,
   "id": "865644e9",
   "metadata": {},
   "outputs": [
    {
     "name": "stdout",
     "output_type": "stream",
     "text": [
      "[{'type': 'passport', 'number': '2207 876234', 'name': 'Василий Гупкин'}, {'type': 'invoice', 'number': '11-2', 'name': 'Геннадий Покемонов'}, {'type': 'insurance', 'number': '10006', 'name': 'Аристарх Павлов'}]\n",
      "{'1': ['2207 876234', '11-2'], '2': ['10006'], '3': []}\n"
     ]
    }
   ],
   "source": [
    "documents = [\n",
    " {'type': 'passport', 'number': '2207 876234', 'name': 'Василий Гупкин'},\n",
    " {'type': 'invoice', 'number': '11-2', 'name': 'Геннадий Покемонов'},\n",
    " {'type': 'insurance', 'number': '10006', 'name': 'Аристарх Павлов'}\n",
    "]\n",
    "\n",
    "directories = {\n",
    " '1': ['2207 876234', '11-2'],\n",
    " '2': ['10006'],\n",
    " '3': []\n",
    "}\n",
    "\n",
    "print(documents)\n",
    "print(directories)"
   ]
  },
  {
   "cell_type": "code",
   "execution_count": 43,
   "id": "20c7be13",
   "metadata": {},
   "outputs": [
    {
     "name": "stdout",
     "output_type": "stream",
     "text": [
      "Введите команду:\n",
      "l\n",
      "№: 2207 876234, тип: passport, владелец: Василий Гупкин, полка хранения: 1\n",
      "№: 11-2, тип: invoice, владелец: Геннадий Покемонов, полка хранения: 1\n",
      "№: 10006, тип: insurance, владелец: Аристарх Павлов, полка хранения: 2\n",
      "Введите команду:\n",
      "p\n",
      "Введите номер документа:\n",
      "2207 876234\n",
      "Владелец документа: Василий Гупкин\n",
      "Введите команду:\n",
      "s\n",
      "Введите номер документа:\n",
      "2207 876234\n",
      "Документ хранится на полке: 1\n",
      "Введите команду:\n",
      "q\n"
     ]
    }
   ],
   "source": [
    "# Задание 1,2,3\n",
    "\n",
    "def findDocByNum(num):\n",
    "    res = list(filter(lambda d: d['number'] == num, documents))\n",
    "    if (len(res) > 0):\n",
    "        return res[0]['name']\n",
    "    \n",
    "def findDir(num):\n",
    "    for x in directories:\n",
    "        if (num in directories[x]):\n",
    "            return x\n",
    "\n",
    "while (True):\n",
    "    cmd = input('Введите команду:\\n')\n",
    "    if (cmd.strip() == 'q'):\n",
    "        break\n",
    "    elif(cmd.strip() in ['p', 's']):\n",
    "        n = input('Введите номер документа:\\n')\n",
    "        if (cmd.strip() == 'p'):\n",
    "            name = findDocByNum(n)\n",
    "            if (name != None):\n",
    "                print('Владелец документа:', name)\n",
    "            else:\n",
    "                print(f'Документ {n} не найден в базе')\n",
    "        elif (cmd.strip() == 's'):\n",
    "            d = findDir(n);\n",
    "            if (None == d):\n",
    "                print(f'Документ {n} не найден в базе')\n",
    "            else:\n",
    "                print('Документ хранится на полке:', d)\n",
    "    elif (cmd.strip() == 'l'):\n",
    "        t = list(map(lambda x: \"№: {}, тип: {}, владелец: {}, полка хранения: {}\"\\\n",
    "             .format(x['number'], x['type'], x['name'], findDir(x['number'])), documents))\n",
    "        for s in t:\n",
    "            print(s)\n",
    "    else:\n",
    "        print('Неизвестная команда:', cmd)\n",
    "        "
   ]
  },
  {
   "cell_type": "code",
   "execution_count": 41,
   "id": "e27e0772",
   "metadata": {},
   "outputs": [
    {
     "name": "stdout",
     "output_type": "stream",
     "text": [
      "{'type': 'passport', 'number': '2207 876234', 'name': 'Василий Гупкин'}\n",
      "{'type': 'invoice', 'number': '11-2', 'name': 'Геннадий Покемонов'}\n",
      "{'type': 'insurance', 'number': '10006', 'name': 'Аристарх Павлов'}\n",
      "['№: 2207 876234, тип: passport, владелец: Василий Гупкин, полка хранения: 1', '№: 11-2, тип: invoice, владелец: Геннадий Покемонов, полка хранения: 1', '№: 10006, тип: insurance, владелец: Аристарх Павлов, полка хранения: 2']\n",
      "№: 2207 876234, тип: passport, владелец: Василий Гупкин, полка хранения: 1\n",
      "№: 11-2, тип: invoice, владелец: Геннадий Покемонов, полка хранения: 1\n",
      "№: 10006, тип: insurance, владелец: Аристарх Павлов, полка хранения: 2\n"
     ]
    }
   ],
   "source": [
    "# r = [res for res['type'] in documents]\n",
    "# mapped_numbers = list(map(lambda x: x * 2 + 3, numbers))\n",
    "# №: 2207 876234, тип: passport, владелец: Василий Гупкин, полка хранения: 1\n",
    "\n",
    "for r in documents:\n",
    "    print(r)\n",
    "    \n",
    "t = []\n",
    "\n",
    "t = list(map(lambda x: \"№: {}, тип: {}, владелец: {}, полка хранения: {}\"\\\n",
    "             .format(x['number'], x['type'], x['name'], findDir(x['number'])), documents))\n",
    "\n",
    "print(t)\n",
    "for s in t:\n",
    "    print(s)\n"
   ]
  }
 ],
 "metadata": {
  "kernelspec": {
   "display_name": "Python 3",
   "language": "python",
   "name": "python3"
  },
  "language_info": {
   "codemirror_mode": {
    "name": "ipython",
    "version": 3
   },
   "file_extension": ".py",
   "mimetype": "text/x-python",
   "name": "python",
   "nbconvert_exporter": "python",
   "pygments_lexer": "ipython3",
   "version": "3.8.8"
  }
 },
 "nbformat": 4,
 "nbformat_minor": 5
}
