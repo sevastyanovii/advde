{
 "cells": [
  {
   "cell_type": "code",
   "execution_count": 13,
   "id": "5d54e674",
   "metadata": {},
   "outputs": [
    {
     "name": "stdout",
     "output_type": "stream",
     "text": [
      "{98, 35, 213, 54, 119, 15}\n"
     ]
    }
   ],
   "source": [
    "# Задание 1\n",
    "\n",
    "ids = {'user1': [213, 213, 213, 15, 213], \n",
    "       'user2': [54, 54, 119, 119, 119], \n",
    "       'user3': [213, 98, 98, 35]}\n",
    "l = set()\n",
    "for k in ids.keys():\n",
    "    l = l.union(set([v for v in ids[k]]))\n",
    "\n",
    "print(l)\n",
    "    "
   ]
  },
  {
   "cell_type": "code",
   "execution_count": 32,
   "id": "fdb42622",
   "metadata": {},
   "outputs": [
    {
     "name": "stdout",
     "output_type": "stream",
     "text": [
      "Поисковых запросов, содержащих \"3\" слов(а): 57.14%\n",
      "Поисковых запросов, содержащих \"2\" слов(а): 42.86%\n"
     ]
    }
   ],
   "source": [
    "# Задание 2\n",
    "\n",
    "queries = [\n",
    "    'смотреть сериалы онлайн'\n",
    "    ,'новости спорта'\n",
    "    ,'афиша кино'\n",
    "    ,'курс доллара'\n",
    "    ,'сериалы этим летом'\n",
    "    ,'курс по питону'\n",
    "    ,'сериалы про спорт'\n",
    "#     ,'комедии'\n",
    "#     ,'авторские программы про животных'\n",
    "]\n",
    "\n",
    "stat = dict()\n",
    "\n",
    "for q in queries:\n",
    "    stat.setdefault(len(q.split(' ')), 0)\n",
    "    stat[len(q.split(' '))] += 1\n",
    "    \n",
    "for k in stat.keys():\n",
    "    print(f'Поисковых запросов, содержащих \"{k}\" слов(а): {round(stat[k]/len(queries)*100, 2)}%')\n",
    "\n"
   ]
  },
  {
   "cell_type": "code",
   "execution_count": 45,
   "id": "d5271bae",
   "metadata": {},
   "outputs": [
    {
     "name": "stdout",
     "output_type": "stream",
     "text": [
      "{'vk': {'revenue': 103, 'cost': 98, 'ROI': 5.1}, 'yandex': {'revenue': 179, 'cost': 153, 'ROI': 16.99}, 'facebook': {'revenue': 103, 'cost': 110, 'ROI': -6.36}, 'adwords': {'revenue': 35, 'cost': 34, 'ROI': 2.94}, 'twitter': {'revenue': 11, 'cost': 24, 'ROI': -54.17}}\n"
     ]
    }
   ],
   "source": [
    "# Задание 3\n",
    "\n",
    "results = {\n",
    "    'vk': {'revenue': 103, 'cost': 98}\n",
    "    , 'yandex': {'revenue': 179, 'cost': 153}\n",
    "    , 'facebook': {'revenue': 103, 'cost': 110}\n",
    "    , 'adwords': {'revenue': 35, 'cost': 34}\n",
    "    , 'twitter': {'revenue': 11, 'cost': 24}\n",
    "}\n",
    "\n",
    "for k in results.keys():\n",
    "    revenue = results[k]['revenue']\n",
    "    cost = results[k]['cost']\n",
    "    results[k].update({'ROI' : round((revenue / cost - 1) * 100, 2)})\n",
    "\n",
    "print (results)\n",
    "    "
   ]
  },
  {
   "cell_type": "code",
   "execution_count": 53,
   "id": "95309071",
   "metadata": {},
   "outputs": [
    {
     "name": "stdout",
     "output_type": "stream",
     "text": [
      "Максимальный объем продаж на рекламном канале: vk\n"
     ]
    }
   ],
   "source": [
    "# Задание 4\n",
    "\n",
    "stats = {'facebook': 55, 'yandex': 115, 'vk': 120, 'google': 99, 'email': 42, 'ok': 98}\n",
    "\n",
    "r = max([s for s in stats.values()])\n",
    "\n",
    "k = [t for t in stats.keys() if (stats[t] == r)]\n",
    "\n",
    "print(f'Максимальный объем продаж на рекламном канале: {k[0]}')"
   ]
  }
 ],
 "metadata": {
  "kernelspec": {
   "display_name": "Python 3",
   "language": "python",
   "name": "python3"
  },
  "language_info": {
   "codemirror_mode": {
    "name": "ipython",
    "version": 3
   },
   "file_extension": ".py",
   "mimetype": "text/x-python",
   "name": "python",
   "nbconvert_exporter": "python",
   "pygments_lexer": "ipython3",
   "version": "3.8.8"
  }
 },
 "nbformat": 4,
 "nbformat_minor": 5
}
