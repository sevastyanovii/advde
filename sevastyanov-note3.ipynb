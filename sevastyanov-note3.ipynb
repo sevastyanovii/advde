{
 "cells": [
  {
   "cell_type": "code",
   "execution_count": 13,
   "id": "da0c5497",
   "metadata": {},
   "outputs": [
    {
     "name": "stdout",
     "output_type": "stream",
     "text": [
      "{98, 35, 213, 54, 119, 15}\n"
     ]
    }
   ],
   "source": [
    "# Задание 1\n",
    "\n",
    "ids = {'user1': [213, 213, 213, 15, 213], \n",
    "       'user2': [54, 54, 119, 119, 119], \n",
    "       'user3': [213, 98, 98, 35]}\n",
    "l = set()\n",
    "for k in ids.keys():\n",
    "    l = l.union(set([v for v in ids[k]]))\n",
    "\n",
    "print(l)\n",
    "    "
   ]
  },
  {
   "cell_type": "code",
   "execution_count": 31,
   "id": "0cbe6a11",
   "metadata": {},
   "outputs": [
    {
     "name": "stdout",
     "output_type": "stream",
     "text": [
      "Поисковых запросов, содержащих \"3\" слов(а): 57.14%\n",
      "Поисковых запросов, содержащих \"2\" слов(а): 42.86%\n"
     ]
    }
   ],
   "source": [
    "# Задание 2\n",
    "\n",
    "queries = [\n",
    "    'смотреть сериалы онлайн'\n",
    "    ,'новости спорта'\n",
    "    ,'афиша кино'\n",
    "    ,'курс доллара'\n",
    "    ,'сериалы этим летом'\n",
    "    ,'курс по питону'\n",
    "    ,'сериалы про спорт'\n",
    "#     ,'комедии'\n",
    "#     ,'авторские программы про животных'\n",
    "]\n",
    "\n",
    "stat = dict()\n",
    "\n",
    "for q in queries:\n",
    "    stat.setdefault(len(q.split(' ')), 0)\n",
    "    stat[len(q.split(' '))] += 1\n",
    "    \n",
    "for k in stat.keys():\n",
    "    print(f'Поисковых запросов, содержащих \"{k}\" слов(а): {round(stat[k]/len(queries)*100, 2)}%')\n",
    "\n"
   ]
  }
 ],
 "metadata": {
  "kernelspec": {
   "display_name": "Python 3",
   "language": "python",
   "name": "python3"
  },
  "language_info": {
   "codemirror_mode": {
    "name": "ipython",
    "version": 3
   },
   "file_extension": ".py",
   "mimetype": "text/x-python",
   "name": "python",
   "nbconvert_exporter": "python",
   "pygments_lexer": "ipython3",
   "version": "3.8.8"
  }
 },
 "nbformat": 4,
 "nbformat_minor": 5
}
