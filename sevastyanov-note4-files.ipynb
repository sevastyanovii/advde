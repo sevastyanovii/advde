{
 "cells": [
  {
   "cell_type": "code",
   "execution_count": 38,
   "id": "c54b672a",
   "metadata": {},
   "outputs": [],
   "source": [
    "# Переведите содержимое файла purchase_log.txt в словарь purchases вида:\n",
    "# {‘1840e0b9d4’: ‘Продукты’, …}\n",
    "\n",
    "# Для каждого user_id в файле visit_log.csv определите третий столбец с категорией покупки (если покупка была, \n",
    "# сам файл visit_log.csv изменять не надо). Запишите в файл funnel.csv визиты из файла visit_log.csv, \n",
    "# в которых были покупки с указанием категории.\n",
    "# Учтите условия на данные:\n",
    "# содержимое purchase_log.txt помещается в оперативную память компьютера\n",
    "# содержимое visit_log.csv - нет; используйте только построчную обработку этого файла\n",
    "\n",
    "import json\n",
    "\n",
    "def addEntity(res, s):\n",
    "    e = json.loads(s)\n",
    "    res[e['user_id']] = e['category']\n",
    "\n",
    "with (open('data/purchase_log.txt', encoding='utf8')) as f:\n",
    "    res = dict()\n",
    "    for i, line in enumerate(f):\n",
    "        if (i > 0):\n",
    "            addEntity(res,line)\n",
    "\n",
    "with (open('data/visit_log.csv')) as f:\n",
    "    with(open('../results/funnel.csv', 'w')) as r:\n",
    "        for i, line in enumerate(f):\n",
    "            stripped = line.strip('\\n')\n",
    "            if (i == 0):\n",
    "                continue\n",
    "            cat = res.get(stripped.split(',')[0])\n",
    "            if (cat != None):\n",
    "                r.write(stripped + ',' + cat + '\\n')\n",
    "            \n",
    "# print(res)\n",
    "    "
   ]
  }
 ],
 "metadata": {
  "kernelspec": {
   "display_name": "Python 3",
   "language": "python",
   "name": "python3"
  },
  "language_info": {
   "codemirror_mode": {
    "name": "ipython",
    "version": 3
   },
   "file_extension": ".py",
   "mimetype": "text/x-python",
   "name": "python",
   "nbconvert_exporter": "python",
   "pygments_lexer": "ipython3",
   "version": "3.8.8"
  }
 },
 "nbformat": 4,
 "nbformat_minor": 5
}
