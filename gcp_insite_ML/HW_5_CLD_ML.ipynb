{
 "cells": [
  {
   "cell_type": "code",
   "execution_count": 2,
   "id": "pediatric-auditor",
   "metadata": {},
   "outputs": [
    {
     "name": "stdout",
     "output_type": "stream",
     "text": [
      "Collecting xgboost\n",
      "  Downloading xgboost-1.3.3-py3-none-manylinux2010_x86_64.whl (157.5 MB)\n",
      "\u001b[K     |████████████████████████████████| 157.5 MB 51 kB/s s eta 0:00:01    |██████████▎                     | 50.7 MB 68.9 MB/s eta 0:00:02     |██████████▊                     | 52.9 MB 68.9 MB/s eta 0:00:02     |███████████████▋                | 76.6 MB 26.7 MB/s eta 0:00:04     |██████████████████████          | 108.7 MB 26.7 MB/s eta 0:00:02     |██████████████████████████▋     | 130.8 MB 8.8 MB/s eta 0:00:04     |█████████████████████████████   | 142.7 MB 8.8 MB/s eta 0:00:02     |██████████████████████████████▉ | 152.0 MB 11.7 MB/s eta 0:00:01     |███████████████████████████████▋| 155.5 MB 11.7 MB/s eta 0:00:01\n",
      "\u001b[?25hRequirement already satisfied: scipy in /opt/conda/lib/python3.7/site-packages (from xgboost) (1.6.0)\n",
      "Requirement already satisfied: numpy in /opt/conda/lib/python3.7/site-packages (from xgboost) (1.19.5)\n",
      "Installing collected packages: xgboost\n",
      "Successfully installed xgboost-1.3.3\n",
      "Requirement already satisfied: model_selection in /opt/conda/lib/python3.7/site-packages (0.0.1)\n"
     ]
    }
   ],
   "source": [
    "!pip install xgboost\n",
    "!pip install model_selection"
   ]
  },
  {
   "cell_type": "code",
   "execution_count": 7,
   "id": "offshore-horizontal",
   "metadata": {},
   "outputs": [],
   "source": [
    "import numpy as np\n",
    "import xgboost as xgb\n",
    "from sklearn.model_selection import train_test_split\n",
    "from sklearn.metrics import precision_score\n",
    "from sklearn.preprocessing import LabelEncoder\n",
    "from google.cloud import storage, bigquery"
   ]
  },
  {
   "cell_type": "code",
   "execution_count": 14,
   "id": "apparent-premium",
   "metadata": {},
   "outputs": [],
   "source": [
    "client = bigquery.Client()\n",
    "sql = \"select * from `bigquery-public-data.ml_datasets.census_adult_income`\"\n",
    "df = client.query(sql).to_dataframe()"
   ]
  },
  {
   "cell_type": "code",
   "execution_count": 17,
   "id": "offshore-seattle",
   "metadata": {},
   "outputs": [
    {
     "name": "stdout",
     "output_type": "stream",
     "text": [
      "[0 1 1 ... 0 0 0]\n"
     ]
    }
   ],
   "source": [
    "target = df[\"income_bracket\"]\n",
    "features = df.drop(\"income_bracket\",1)\n",
    "label_encoder = LabelEncoder()\n",
    "target_encoded = label_encoder.fit_transform(target)\n",
    "print(target_encoded)"
   ]
  },
  {
   "cell_type": "code",
   "execution_count": 20,
   "id": "other-discipline",
   "metadata": {},
   "outputs": [],
   "source": [
    "X_train, X_test, y_train, y_test = train_test_split(features, target_encoded, test_size=0.2, random_state=42)\n",
    "dtrain = xgb.DMatrix(X_train._get_numeric_data(), label=y_train)\n",
    "dtest = xgb.DMatrix(X_test._get_numeric_data(), label=y_test)"
   ]
  },
  {
   "cell_type": "code",
   "execution_count": 34,
   "id": "subject-interstate",
   "metadata": {},
   "outputs": [
    {
     "name": "stdout",
     "output_type": "stream",
     "text": [
      "[13:36:42] WARNING: ../src/learner.cc:541: \n",
      "Parameters: { silent } might not be used.\n",
      "\n",
      "  This may not be accurate due to some parameters are only used in language bindings but\n",
      "  passed down to XGBoost core.  Or some parameters are not used but slip through this\n",
      "  verification. Please open an issue if you find above cases.\n",
      "\n",
      "\n",
      "[13:36:42] WARNING: ../src/learner.cc:1061: Starting in XGBoost 1.3.0, the default evaluation metric used with the objective 'multi:softprob' was changed from 'merror' to 'mlogloss'. Explicitly set eval_metric if you'd like to restore the old behavior.\n"
     ]
    }
   ],
   "source": [
    "param = {\n",
    "    'max_depth': 3,\n",
    "    'eta': 0.3,\n",
    "    'silent': 1,\n",
    "    'objective': 'multi:softprob',\n",
    "    'num_class': 3\n",
    "}\n",
    "num_round = 100\n",
    "bst = xgb.train(param, dtrain , num_round)"
   ]
  },
  {
   "cell_type": "code",
   "execution_count": 35,
   "id": "running-helicopter",
   "metadata": {},
   "outputs": [
    {
     "name": "stdout",
     "output_type": "stream",
     "text": [
      "0.8139098096663238\n"
     ]
    }
   ],
   "source": [
    "preds = bst.predict(dtest)\n",
    "best_preds = np.asarray([np.argmax(line) for line in preds])\n",
    "print(precision_score(y_test, best_preds, average='macro'))"
   ]
  },
  {
   "cell_type": "code",
   "execution_count": 37,
   "id": "capital-delicious",
   "metadata": {},
   "outputs": [],
   "source": [
    "model = 'model.bst'\n",
    "bst.save_model(model)\n",
    "bucket = storage.Client().bucket('cld_ml')\n",
    "blob = bucket.blob('{}/{}'.format('ml/models/', model))\n",
    "blob.upload_from_filename(model)"
   ]
  },
  {
   "cell_type": "code",
   "execution_count": null,
   "id": "played-tactics",
   "metadata": {},
   "outputs": [],
   "source": []
  }
 ],
 "metadata": {
  "environment": {
   "name": "common-cpu.mnightly-2021-02-12-debian-10-test",
   "type": "gcloud",
   "uri": "gcr.io/deeplearning-platform-release/base-cpu:mnightly-2021-02-12-debian-10-test"
  },
  "kernelspec": {
   "display_name": "Python 3",
   "language": "python",
   "name": "python3"
  },
  "language_info": {
   "codemirror_mode": {
    "name": "ipython",
    "version": 3
   },
   "file_extension": ".py",
   "mimetype": "text/x-python",
   "name": "python",
   "nbconvert_exporter": "python",
   "pygments_lexer": "ipython3",
   "version": "3.7.9"
  }
 },
 "nbformat": 4,
 "nbformat_minor": 5
}
