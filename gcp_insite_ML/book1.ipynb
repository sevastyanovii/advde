{
 "cells": [
  {
   "cell_type": "code",
   "execution_count": 2,
   "id": "8acbc768-eb03-4721-96db-1030e729025a",
   "metadata": {},
   "outputs": [
    {
     "name": "stdout",
     "output_type": "stream",
     "text": [
      "Requirement already satisfied: xgboost in /opt/conda/lib/python3.7/site-packages (1.5.1)\n",
      "Requirement already satisfied: numpy in /opt/conda/lib/python3.7/site-packages (from xgboost) (1.19.5)\n",
      "Requirement already satisfied: scipy in /opt/conda/lib/python3.7/site-packages (from xgboost) (1.7.3)\n",
      "Requirement already satisfied: model_selection in /opt/conda/lib/python3.7/site-packages (0.0.1)\n"
     ]
    }
   ],
   "source": [
    "!pip install xgboost\n",
    "!pip install model_selection"
   ]
  },
  {
   "cell_type": "code",
   "execution_count": 9,
   "id": "72b2399f-cec3-475f-8091-95f8fc9ad64d",
   "metadata": {},
   "outputs": [],
   "source": [
    "import numpy as np\n",
    "import xgboost as xgb\n",
    "\n",
    "from sklearn.model_selection import train_test_split\n",
    "from sklearn.metrics import precision_score\n",
    "from sklearn.preprocessing import LabelEncoder\n",
    "from google.cloud import storage, bigquery\n"
   ]
  },
  {
   "cell_type": "code",
   "execution_count": 17,
   "id": "dcdfa76d-9f75-43e0-bd30-7562504cdd70",
   "metadata": {},
   "outputs": [],
   "source": [
    "client = bigquery.Client()\n",
    "sql = \"SELECT * FROM `bigquery-public-data.ml_datasets.iris`\"\n",
    "df = client.query(sql).to_dataframe()\n"
   ]
  },
  {
   "cell_type": "code",
   "execution_count": 21,
   "id": "3f634e8c-88d9-4ee4-b7a9-013289e57b37",
   "metadata": {},
   "outputs": [
    {
     "name": "stdout",
     "output_type": "stream",
     "text": [
      "[1 1 1 1 1 1 1 1 1 1 1 1 1 2 1 1 2 2 1 2 2 2 2 2 2 0 0 0 0 0 0 0 0 0 0 0 0\n",
      " 0 0 0 1 1 1 1 1 1 1 2 2 2 2 2 2 2 2 0 0 0 0 0 0 1 1 1 1 1 1 1 1 1 2 2 2 2\n",
      " 2 2 1 2 2 2 2 2 2 2 2 2 2 2 0 0 0 0 0 0 0 0 0 0 0 0 0 0 1 1 1 1 1 2 1 1 2\n",
      " 2 2 2 2 2 2 2 0 0 0 0 0 0 0 0 1 1 1 1 1 1 1 1 1 1 2 2 2 2 2 2 2 0 0 0 0 0\n",
      " 0 0]\n"
     ]
    },
    {
     "name": "stderr",
     "output_type": "stream",
     "text": [
      "/opt/conda/lib/python3.7/site-packages/ipykernel_launcher.py:2: FutureWarning: In a future version of pandas all arguments of DataFrame.drop except for the argument 'labels' will be keyword-only\n",
      "  \n"
     ]
    }
   ],
   "source": [
    "target = df[\"species\"]\n",
    "features = df.drop(\"species\", 1)\n",
    "label_encoder = LabelEncoder()\n",
    "target_encoder = label_encoder.fit_transform(target)\n",
    "print(target_encoder)"
   ]
  },
  {
   "cell_type": "code",
   "execution_count": 26,
   "id": "cb11bf54-75d7-4b45-bba6-979f91b04ffa",
   "metadata": {},
   "outputs": [],
   "source": [
    "# Split data\n",
    "X_train,X_test, y_train, y_test = train_test_split(features, target_encoder, test_size=0.2, random_state=42)\n",
    "dtrain = xgb.DMatrix(X_train, label=y_train)\n",
    "dtest = xgb.DMatrix(X_test, label=y_test)"
   ]
  },
  {
   "cell_type": "code",
   "execution_count": 28,
   "id": "fe2b2c42-d7e2-437b-a2b3-fb5da743a598",
   "metadata": {},
   "outputs": [
    {
     "name": "stdout",
     "output_type": "stream",
     "text": [
      "[05:12:21] WARNING: ../src/learner.cc:576: \n",
      "Parameters: { \"silent\" } might not be used.\n",
      "\n",
      "  This could be a false alarm, with some parameters getting used by language bindings but\n",
      "  then being mistakenly passed down to XGBoost core, or some parameter actually being used\n",
      "  but getting flagged wrongly here. Please open an issue if you find any such cases.\n",
      "\n",
      "\n",
      "[05:12:21] WARNING: ../src/learner.cc:1115: Starting in XGBoost 1.3.0, the default evaluation metric used with the objective 'multi:softprob' was changed from 'merror' to 'mlogloss'. Explicitly set eval_metric if you'd like to restore the old behavior.\n"
     ]
    }
   ],
   "source": [
    "# train model\n",
    "param = {\n",
    "    'max_depth': 3\n",
    "    , 'eta': 0.3\n",
    "    , 'silent': 1\n",
    "    , 'objective': 'multi:softprob'\n",
    "    , 'num_class': 3\n",
    "}\n",
    "num_round = 10\n",
    "bst = xgb.train(param, dtrain, num_round)"
   ]
  },
  {
   "cell_type": "code",
   "execution_count": 31,
   "id": "56002cbc-951e-4d47-a0c2-cc832cd91dcd",
   "metadata": {},
   "outputs": [
    {
     "name": "stdout",
     "output_type": "stream",
     "text": [
      "0.9333333333333333\n"
     ]
    }
   ],
   "source": [
    "#evaluate model\n",
    "preds = bst.predict(dtest)\n",
    "best_preds = np.asarray([np.argmax(line) for line in preds])\n",
    "print(precision_score(y_test, best_preds, average='micro'))"
   ]
  },
  {
   "cell_type": "code",
   "execution_count": 34,
   "id": "ad302bd7-3db2-4ad4-bf53-6f6dc7756b26",
   "metadata": {},
   "outputs": [],
   "source": [
    "model = 'model.bst'\n",
    "bst.save_model(model)\n",
    "bucket = storage.Client().bucket('advde-bucket-1')\n",
    "blob = bucket.blob('{}/{}'.format('ml/models/nb_model', model))\n",
    "blob.upload_from_filename(model)"
   ]
  }
 ],
 "metadata": {
  "environment": {
   "kernel": "python3",
   "name": "common-cpu.m87",
   "type": "gcloud",
   "uri": "gcr.io/deeplearning-platform-release/base-cpu:m87"
  },
  "kernelspec": {
   "display_name": "Python 3",
   "language": "python",
   "name": "python3"
  },
  "language_info": {
   "codemirror_mode": {
    "name": "ipython",
    "version": 3
   },
   "file_extension": ".py",
   "mimetype": "text/x-python",
   "name": "python",
   "nbconvert_exporter": "python",
   "pygments_lexer": "ipython3",
   "version": "3.7.12"
  }
 },
 "nbformat": 4,
 "nbformat_minor": 5
}
