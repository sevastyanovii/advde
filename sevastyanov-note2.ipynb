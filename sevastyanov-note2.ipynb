{
 "cells": [
  {
   "cell_type": "code",
   "execution_count": 1,
   "id": "1caf2f96",
   "metadata": {},
   "outputs": [
    {
     "name": "stdout",
     "output_type": "stream",
     "text": [
      "Введите слово:wrwerwe\n",
      "e\n"
     ]
    }
   ],
   "source": [
    "# Задание 1\n",
    "\n",
    "val = input('Введите слово:')\n",
    "\n",
    "if (len(val)%2 == 0):\n",
    "    print(len(val)//2-2, len(val)//2)\n",
    "    print(val[len(val)//2-1], val[len(val)//2])\n",
    "else:\n",
    "    print(val[len(val)//2])\n",
    "\n"
   ]
  },
  {
   "cell_type": "code",
   "execution_count": 5,
   "id": "68518616",
   "metadata": {},
   "outputs": [
    {
     "name": "stdout",
     "output_type": "stream",
     "text": [
      "Введите число: 1\n",
      "Введите число: 2\n",
      "Введите число: 3\n",
      "Введите число: 0\n",
      "Результат: 6\n"
     ]
    }
   ],
   "source": [
    "# Задание 2\n",
    "\n",
    "tot = 0\n",
    "while (True):\n",
    "    val = int(input('Введите число: '))\n",
    "    if (val == 0): break\n",
    "    tot += val\n",
    "\n",
    "print(f'Результат: {tot}')"
   ]
  },
  {
   "cell_type": "code",
   "execution_count": 27,
   "id": "b07b8d63",
   "metadata": {},
   "outputs": [
    {
     "name": "stdout",
     "output_type": "stream",
     "text": [
      "Идеальные пары:\n",
      "Peter  и  Kate\n",
      "Alex  и  Liza\n",
      "John  и  Kira\n",
      "Arthur  и  Emma\n",
      "Richard  и  Girl1\n",
      "-----------------------\n",
      "Внимание, кто-то может остаться без пары!\n"
     ]
    }
   ],
   "source": [
    "# Задание 3\n",
    "\n",
    "def pairResult(b, g):\n",
    "    if (len(b) != len(g)):\n",
    "        print('Внимание, кто-то может остаться без пары!')\n",
    "    else:\n",
    "        l = list(zip(b, g))\n",
    "        print('Идеальные пары:')\n",
    "        for e in l:\n",
    "            print(e[0], ' и ', e[1])\n",
    "\n",
    "boys = ['Peter', 'Alex', 'John', 'Arthur', 'Richard']\n",
    "girls = ['Kate', 'Liza', 'Kira', 'Emma', 'Girl1']\n",
    "pairResult(boys, girls)\n",
    "\n",
    "print('-----------------------')\n",
    "boys = ['Peter', 'Alex', 'John', 'Arthur', 'Richard']\n",
    "girls = ['Kate', 'Liza', 'Kira', 'Emma']\n",
    "pairResult(boys, girls)\n"
   ]
  }
 ],
 "metadata": {
  "kernelspec": {
   "display_name": "Python 3",
   "language": "python",
   "name": "python3"
  },
  "language_info": {
   "codemirror_mode": {
    "name": "ipython",
    "version": 3
   },
   "file_extension": ".py",
   "mimetype": "text/x-python",
   "name": "python",
   "nbconvert_exporter": "python",
   "pygments_lexer": "ipython3",
   "version": "3.8.8"
  }
 },
 "nbformat": 4,
 "nbformat_minor": 5
}
