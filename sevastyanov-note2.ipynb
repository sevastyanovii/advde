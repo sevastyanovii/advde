{
 "cells": [
  {
   "cell_type": "code",
   "execution_count": 14,
   "id": "1caf2f96",
   "metadata": {},
   "outputs": [
    {
     "name": "stdout",
     "output_type": "stream",
     "text": [
      "Введите слово:qwer\n",
      "we\n"
     ]
    }
   ],
   "source": [
    "# Задание 1\n",
    "\n",
    "val = input('Введите слово:')\n",
    "\n",
    "if (len(val)%2 == 0):\n",
    "    print(val[len(val)//2-1] + val[len(val)//2])\n",
    "else:\n",
    "    print('Результат:\\n',val[len(val)//2])\n",
    "\n"
   ]
  },
  {
   "cell_type": "code",
   "execution_count": 2,
   "id": "3cf30843",
   "metadata": {
    "scrolled": true
   },
   "outputs": [
    {
     "name": "stdout",
     "output_type": "stream",
     "text": [
      "Введите число: 111\n",
      "Введите число: 1222\n",
      "Введите число: 0\n",
      "Результат: 1333\n"
     ]
    }
   ],
   "source": [
    "# Задание 2\n",
    "\n",
    "tot = 0\n",
    "while (True):\n",
    "    val = int(input('Введите число: '))\n",
    "    if (val == 0): break\n",
    "    tot += val\n",
    "\n",
    "print(f'Результат: {tot}')"
   ]
  },
  {
   "cell_type": "code",
   "execution_count": 3,
   "id": "ea3f81d2",
   "metadata": {},
   "outputs": [
    {
     "name": "stdout",
     "output_type": "stream",
     "text": [
      "Идеальные пары:\n",
      "Peter  и  Kate\n",
      "Alex  и  Liza\n",
      "John  и  Kira\n",
      "Arthur  и  Emma\n",
      "Richard  и  Girl1\n",
      "-----------------------\n",
      "Внимание, кто-то может остаться без пары!\n"
     ]
    }
   ],
   "source": [
    "# Задание 3\n",
    "\n",
    "def pairResult(b, g):\n",
    "    if (len(b) != len(g)):\n",
    "        print('Внимание, кто-то может остаться без пары!')\n",
    "    else:\n",
    "        l = list(zip(b, g))\n",
    "        print('Идеальные пары:')\n",
    "        for e in l:\n",
    "            print(e[0], ' и ', e[1])\n",
    "\n",
    "boys = ['Peter', 'Alex', 'John', 'Arthur', 'Richard']\n",
    "girls = ['Kate', 'Liza', 'Kira', 'Emma', 'Girl1']\n",
    "pairResult(boys, girls)\n",
    "\n",
    "print('-----------------------')\n",
    "boys = ['Peter', 'Alex', 'John', 'Arthur', 'Richard']\n",
    "girls = ['Kate', 'Liza', 'Kira', 'Emma']\n",
    "pairResult(boys, girls)\n"
   ]
  },
  {
   "cell_type": "code",
   "execution_count": 12,
   "id": "2a56e91d",
   "metadata": {},
   "outputs": [
    {
     "name": "stdout",
     "output_type": "stream",
     "text": [
      "Thailand - 23.9\n",
      "Germany - 13.8\n",
      "Russia - 3.7\n",
      "Poland - 12.0\n"
     ]
    }
   ],
   "source": [
    "# Задание 4\n",
    "\n",
    "countries_temperature = [\n",
    "['Thailand', [75.2, 77, 78.8, 73.4, 68, 75.2, 77]],\n",
    "['Germany', [57.2, 55.4, 59, 59, 53.6]],\n",
    "['Russia', [35.6, 37.4, 39.2, 41, 42.8, 39.2, 35.6]],\n",
    "['Poland', [50, 50, 53.6, 57.2, 55.4, 55.4]]\n",
    "]\n",
    "\n",
    "res = []\n",
    "for k in countries_temperature:\n",
    "    a = [k[0], round((sum(k[1])/len(k[1]) - 32)*5/9, 1)]\n",
    "    res.append(a)\n",
    "for k in res:\n",
    "    print(k[0], '-', k[1])"
   ]
  },
  {
   "cell_type": "code",
   "execution_count": 20,
   "id": "ec5ce829",
   "metadata": {},
   "outputs": [
    {
     "name": "stdout",
     "output_type": "stream",
     "text": [
      "Среднее количество просмотров на уникального пользователя: 23.25\n",
      "----------------------------\n",
      "Среднее количество просмотров на уникального пользователя: 145.33\n"
     ]
    }
   ],
   "source": [
    "# Задание 5\n",
    "\n",
    "stream = [\n",
    "'2018-01-01,user1,3',\n",
    "'2018-01-07,user1,4',\n",
    "'2018-03-29,user1,1',\n",
    "'2018-04-04,user1,13',\n",
    "'2018-01-05,user2,7',\n",
    "'2018-06-14,user3,4',\n",
    "'2018-07-02,user3,10',\n",
    "'2018-03-21,user4,19',\n",
    "'2018-03-22,user4,4',\n",
    "'2018-04-22,user4,8',\n",
    "'2018-05-03,user4,9',\n",
    "'2018-05-11,user4,11',\n",
    "]\n",
    "\n",
    "def showStreamInfo(s):\n",
    "    u = list(map(lambda e: e.split(',')[1], s))\n",
    "    s = sum(list(map(lambda e: int(e.split(',')[2]), s)))\n",
    "    print(f'Среднее количество просмотров на уникального пользователя: {round(s/len(set(u)), 2)}')\n",
    "    \n",
    "\n",
    "showStreamInfo(stream)\n",
    "\n",
    "print('----------------------------')\n",
    "\n",
    "stream = [\n",
    "'2018-01-01,user100,150',\n",
    "'2018-01-07,user99,205',\n",
    "'2018-03-29,user1001,81'\n",
    "]\n",
    "\n",
    "showStreamInfo(stream)\n"
   ]
  }
 ],
 "metadata": {
  "kernelspec": {
   "display_name": "Python 3",
   "language": "python",
   "name": "python3"
  },
  "language_info": {
   "codemirror_mode": {
    "name": "ipython",
    "version": 3
   },
   "file_extension": ".py",
   "mimetype": "text/x-python",
   "name": "python",
   "nbconvert_exporter": "python",
   "pygments_lexer": "ipython3",
   "version": "3.8.8"
  }
 },
 "nbformat": 4,
 "nbformat_minor": 5
}
