{
 "cells": [
  {
   "cell_type": "code",
   "execution_count": 1,
   "id": "1caf2f96",
   "metadata": {},
   "outputs": [
    {
     "name": "stdout",
     "output_type": "stream",
     "text": [
      "Введите слово:12121\n",
      "1\n"
     ]
    }
   ],
   "source": [
    "# Задание 1\n",
    "\n",
    "val = input('Введите слово:')\n",
    "\n",
    "if (len(val)%2 == 0):\n",
    "    print(len(val)//2-2, len(val)//2)\n",
    "    print(val[len(val)//2-1], val[len(val)//2])\n",
    "else:\n",
    "    print(val[len(val)//2])\n",
    "\n"
   ]
  },
  {
   "cell_type": "code",
   "execution_count": 2,
   "id": "ebf312b9",
   "metadata": {
    "scrolled": true
   },
   "outputs": [
    {
     "name": "stdout",
     "output_type": "stream",
     "text": [
      "Введите число: 111\n",
      "Введите число: 1222\n",
      "Введите число: 0\n",
      "Результат: 1333\n"
     ]
    }
   ],
   "source": [
    "# Задание 2\n",
    "\n",
    "tot = 0\n",
    "while (True):\n",
    "    val = int(input('Введите число: '))\n",
    "    if (val == 0): break\n",
    "    tot += val\n",
    "\n",
    "print(f'Результат: {tot}')"
   ]
  },
  {
   "cell_type": "code",
   "execution_count": 3,
   "id": "aea139b7",
   "metadata": {},
   "outputs": [
    {
     "name": "stdout",
     "output_type": "stream",
     "text": [
      "Идеальные пары:\n",
      "Peter  и  Kate\n",
      "Alex  и  Liza\n",
      "John  и  Kira\n",
      "Arthur  и  Emma\n",
      "Richard  и  Girl1\n",
      "-----------------------\n",
      "Внимание, кто-то может остаться без пары!\n"
     ]
    }
   ],
   "source": [
    "# Задание 3\n",
    "\n",
    "def pairResult(b, g):\n",
    "    if (len(b) != len(g)):\n",
    "        print('Внимание, кто-то может остаться без пары!')\n",
    "    else:\n",
    "        l = list(zip(b, g))\n",
    "        print('Идеальные пары:')\n",
    "        for e in l:\n",
    "            print(e[0], ' и ', e[1])\n",
    "\n",
    "boys = ['Peter', 'Alex', 'John', 'Arthur', 'Richard']\n",
    "girls = ['Kate', 'Liza', 'Kira', 'Emma', 'Girl1']\n",
    "pairResult(boys, girls)\n",
    "\n",
    "print('-----------------------')\n",
    "boys = ['Peter', 'Alex', 'John', 'Arthur', 'Richard']\n",
    "girls = ['Kate', 'Liza', 'Kira', 'Emma']\n",
    "pairResult(boys, girls)\n"
   ]
  },
  {
   "cell_type": "code",
   "execution_count": 11,
   "id": "e2a749d5",
   "metadata": {},
   "outputs": [
    {
     "name": "stdout",
     "output_type": "stream",
     "text": [
      "Thailand - 23.9\n",
      "Germany - 13.8\n",
      "Russia - 3.7\n",
      "Poland - 12.0\n"
     ]
    }
   ],
   "source": [
    "# Задание 4\n",
    "\n",
    "countries_temperature = [\n",
    "['Thailand', [75.2, 77, 78.8, 73.4, 68, 75.2, 77]],\n",
    "['Germany', [57.2, 55.4, 59, 59, 53.6]],\n",
    "['Russia', [35.6, 37.4, 39.2, 41, 42.8, 39.2, 35.6]],\n",
    "['Poland', [50, 50, 53.6, 57.2, 55.4, 55.4]]\n",
    "]\n",
    "\n",
    "# num2 = sum([int(x) for x in list(valString[3:])])\n",
    "# cel = [str(k[0]) for k in countries_temperature\n",
    "#           ((f-32)*5/9) for f in k[1]]\n",
    "res = []\n",
    "for k in countries_temperature:\n",
    "    a = [k[0], round((sum(k[1])/len(k[1]) - 32)*5/9, 1)]\n",
    "    res.append(a)\n",
    "for k in res:\n",
    "    print(k[0], '-', k[1])"
   ]
  }
 ],
 "metadata": {
  "kernelspec": {
   "display_name": "Python 3",
   "language": "python",
   "name": "python3"
  },
  "language_info": {
   "codemirror_mode": {
    "name": "ipython",
    "version": 3
   },
   "file_extension": ".py",
   "mimetype": "text/x-python",
   "name": "python",
   "nbconvert_exporter": "python",
   "pygments_lexer": "ipython3",
   "version": "3.8.8"
  }
 },
 "nbformat": 4,
 "nbformat_minor": 5
}
