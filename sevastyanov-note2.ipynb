{
 "cells": [
  {
   "cell_type": "code",
   "execution_count": 12,
   "id": "1caf2f96",
   "metadata": {},
   "outputs": [
    {
     "name": "stdout",
     "output_type": "stream",
     "text": [
      "Введите слово:qwe\n",
      "qwe\n",
      "w\n"
     ]
    }
   ],
   "source": [
    "# Задание 1\n",
    "\n",
    "val = input('Введите слово:')\n",
    "\n",
    "if (len(val)%2 == 0):\n",
    "    print(len(val)//2-2, len(val)//2)\n",
    "    print(val[len(val)//2-1], val[len(val)//2])\n",
    "else:\n",
    "    print(val[len(val)//2])\n",
    "\n"
   ]
  }
 ],
 "metadata": {
  "kernelspec": {
   "display_name": "Python 3",
   "language": "python",
   "name": "python3"
  },
  "language_info": {
   "codemirror_mode": {
    "name": "ipython",
    "version": 3
   },
   "file_extension": ".py",
   "mimetype": "text/x-python",
   "name": "python",
   "nbconvert_exporter": "python",
   "pygments_lexer": "ipython3",
   "version": "3.8.8"
  }
 },
 "nbformat": 4,
 "nbformat_minor": 5
}
