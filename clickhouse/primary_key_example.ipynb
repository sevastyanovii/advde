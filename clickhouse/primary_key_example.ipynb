{
 "cells": [
  {
   "cell_type": "markdown",
   "metadata": {},
   "source": [
    "# Аналог первичного ключа"
   ]
  },
  {
   "cell_type": "code",
   "execution_count": 1,
   "metadata": {},
   "outputs": [],
   "source": [
    "import pandas as pd"
   ]
  },
  {
   "cell_type": "code",
   "execution_count": 2,
   "metadata": {},
   "outputs": [
    {
     "data": {
      "text/html": [
       "<div>\n",
       "<style scoped>\n",
       "    .dataframe tbody tr th:only-of-type {\n",
       "        vertical-align: middle;\n",
       "    }\n",
       "\n",
       "    .dataframe tbody tr th {\n",
       "        vertical-align: top;\n",
       "    }\n",
       "\n",
       "    .dataframe thead th {\n",
       "        text-align: right;\n",
       "    }\n",
       "</style>\n",
       "<table border=\"1\" class=\"dataframe\">\n",
       "  <thead>\n",
       "    <tr style=\"text-align: right;\">\n",
       "      <th></th>\n",
       "      <th>CounterID</th>\n",
       "      <th>EventDate</th>\n",
       "      <th>EventID</th>\n",
       "      <th>Country</th>\n",
       "      <th>visits</th>\n",
       "    </tr>\n",
       "  </thead>\n",
       "  <tbody>\n",
       "    <tr>\n",
       "      <th>0</th>\n",
       "      <td>333</td>\n",
       "      <td>2020-11-18</td>\n",
       "      <td>99905</td>\n",
       "      <td>Russia</td>\n",
       "      <td>244</td>\n",
       "    </tr>\n",
       "    <tr>\n",
       "      <th>1</th>\n",
       "      <td>555</td>\n",
       "      <td>2020-09-14</td>\n",
       "      <td>99892</td>\n",
       "      <td>Other</td>\n",
       "      <td>4138</td>\n",
       "    </tr>\n",
       "    <tr>\n",
       "      <th>2</th>\n",
       "      <td>111</td>\n",
       "      <td>2020-01-08</td>\n",
       "      <td>99872</td>\n",
       "      <td>Russia</td>\n",
       "      <td>7830</td>\n",
       "    </tr>\n",
       "    <tr>\n",
       "      <th>3</th>\n",
       "      <td>333</td>\n",
       "      <td>2020-04-17</td>\n",
       "      <td>99869</td>\n",
       "      <td>Other</td>\n",
       "      <td>9675</td>\n",
       "    </tr>\n",
       "    <tr>\n",
       "      <th>4</th>\n",
       "      <td>555</td>\n",
       "      <td>2020-09-29</td>\n",
       "      <td>99837</td>\n",
       "      <td>Other</td>\n",
       "      <td>1313</td>\n",
       "    </tr>\n",
       "  </tbody>\n",
       "</table>\n",
       "</div>"
      ],
      "text/plain": [
       "   CounterID   EventDate  EventID Country  visits\n",
       "0        333  2020-11-18    99905  Russia     244\n",
       "1        555  2020-09-14    99892   Other    4138\n",
       "2        111  2020-01-08    99872  Russia    7830\n",
       "3        333  2020-04-17    99869   Other    9675\n",
       "4        555  2020-09-29    99837   Other    1313"
      ]
     },
     "execution_count": 2,
     "metadata": {},
     "output_type": "execute_result"
    }
   ],
   "source": [
    "logs = pd.read_csv('logs.csv', sep='\\t')\n",
    "logs.head()"
   ]
  },
  {
   "cell_type": "code",
   "execution_count": 10,
   "metadata": {},
   "outputs": [
    {
     "data": {
      "text/plain": [
       "5"
      ]
     },
     "execution_count": 10,
     "metadata": {},
     "output_type": "execute_result"
    }
   ],
   "source": [
    "logs.CounterID.nunique()"
   ]
  },
  {
   "cell_type": "code",
   "execution_count": 11,
   "metadata": {},
   "outputs": [
    {
     "data": {
      "text/plain": [
       "366"
      ]
     },
     "execution_count": 11,
     "metadata": {},
     "output_type": "execute_result"
    }
   ],
   "source": [
    "logs.EventDate.nunique()"
   ]
  },
  {
   "cell_type": "code",
   "execution_count": 12,
   "metadata": {},
   "outputs": [
    {
     "data": {
      "text/plain": [
       "1830"
      ]
     },
     "execution_count": 12,
     "metadata": {},
     "output_type": "execute_result"
    }
   ],
   "source": [
    "5 * 366"
   ]
  },
  {
   "cell_type": "markdown",
   "metadata": {},
   "source": [
    "### Хотим посчитать сумму визитов для счетчика 333 за 2020-07-01\n",
    "Попробуем разные способы простого перебора всей таблицы"
   ]
  },
  {
   "cell_type": "code",
   "execution_count": 3,
   "metadata": {},
   "outputs": [
    {
     "data": {
      "text/plain": [
       "13690"
      ]
     },
     "execution_count": 3,
     "metadata": {},
     "output_type": "execute_result"
    }
   ],
   "source": [
    "# вариант 1\n",
    "logs[(logs.CounterID == 333) & (logs.EventDate == '2020-07-01')].visits.sum()"
   ]
  },
  {
   "cell_type": "code",
   "execution_count": 4,
   "metadata": {},
   "outputs": [
    {
     "data": {
      "text/plain": [
       "13690"
      ]
     },
     "execution_count": 4,
     "metadata": {},
     "output_type": "execute_result"
    }
   ],
   "source": [
    "# вариант 2\n",
    "logs.loc[(logs.CounterID == 333) & (logs.EventDate == '2020-07-01'), 'visits'].sum()"
   ]
  },
  {
   "cell_type": "code",
   "execution_count": 5,
   "metadata": {},
   "outputs": [
    {
     "data": {
      "text/plain": [
       "13690"
      ]
     },
     "execution_count": 5,
     "metadata": {},
     "output_type": "execute_result"
    }
   ],
   "source": [
    "visits_sum = 0\n",
    "\n",
    "with open('logs.csv') as f:\n",
    "    f.readline()  # пропускаем заголовок\n",
    "    \n",
    "    for line in f:\n",
    "        counter_id, event_date, event_id, country, visits = line.strip().split('\\t')\n",
    "        \n",
    "        if counter_id == '333' and event_date == '2020-07-01':\n",
    "            visits_sum += int(visits)\n",
    "            \n",
    "visits_sum"
   ]
  },
  {
   "cell_type": "markdown",
   "metadata": {},
   "source": [
    "Оценим скорость работы:"
   ]
  },
  {
   "cell_type": "code",
   "execution_count": 6,
   "metadata": {},
   "outputs": [
    {
     "name": "stdout",
     "output_type": "stream",
     "text": [
      "CPU times: user 16.2 s, sys: 176 ms, total: 16.4 s\n",
      "Wall time: 18.4 s\n"
     ]
    }
   ],
   "source": [
    "%%time\n",
    "\n",
    "for _ in range(10**4):\n",
    "    logs[(logs.CounterID == 333) & (logs.EventDate == '2020-07-01')].visits.sum()"
   ]
  },
  {
   "cell_type": "code",
   "execution_count": 7,
   "metadata": {},
   "outputs": [
    {
     "name": "stdout",
     "output_type": "stream",
     "text": [
      "CPU times: user 13.7 s, sys: 155 ms, total: 13.9 s\n",
      "Wall time: 15.5 s\n"
     ]
    }
   ],
   "source": [
    "%%time\n",
    "\n",
    "for _ in range(10**4):\n",
    "    logs.loc[(logs.CounterID == 333) & (logs.EventDate == '2020-07-01'), 'visits'].sum()"
   ]
  },
  {
   "cell_type": "code",
   "execution_count": 8,
   "metadata": {
    "scrolled": true
   },
   "outputs": [
    {
     "name": "stdout",
     "output_type": "stream",
     "text": [
      "CPU times: user 27.5 s, sys: 1.15 s, total: 28.7 s\n",
      "Wall time: 34.8 s\n"
     ]
    }
   ],
   "source": [
    "%%time\n",
    "\n",
    "for _ in range(10**4):\n",
    "    visits_sum = 0\n",
    "\n",
    "    with open('logs.csv') as f:\n",
    "        f.readline()  # пропускаем заголовок\n",
    "\n",
    "        for line in f:\n",
    "            counter_id, event_date, event_id, country, visits = line.strip().split('\\t')\n",
    "\n",
    "            if counter_id == '333' and event_date == '2020-07-01':\n",
    "                visits_sum += int(visits)"
   ]
  },
  {
   "cell_type": "markdown",
   "metadata": {},
   "source": [
    "### Используем первичный ключ\n",
    "Точнее, аналог в виде словаря"
   ]
  },
  {
   "cell_type": "code",
   "execution_count": 13,
   "metadata": {},
   "outputs": [],
   "source": [
    "logs.sort_values(['CounterID', 'EventDate']).to_csv('logs_sorted_by_pk.csv', index=False)"
   ]
  },
  {
   "cell_type": "code",
   "execution_count": 15,
   "metadata": {},
   "outputs": [
    {
     "data": {
      "text/html": [
       "<div>\n",
       "<style scoped>\n",
       "    .dataframe tbody tr th:only-of-type {\n",
       "        vertical-align: middle;\n",
       "    }\n",
       "\n",
       "    .dataframe tbody tr th {\n",
       "        vertical-align: top;\n",
       "    }\n",
       "\n",
       "    .dataframe thead th {\n",
       "        text-align: right;\n",
       "    }\n",
       "</style>\n",
       "<table border=\"1\" class=\"dataframe\">\n",
       "  <thead>\n",
       "    <tr style=\"text-align: right;\">\n",
       "      <th></th>\n",
       "      <th>CounterID</th>\n",
       "      <th>EventDate</th>\n",
       "      <th>EventID</th>\n",
       "      <th>Country</th>\n",
       "      <th>visits</th>\n",
       "    </tr>\n",
       "  </thead>\n",
       "  <tbody>\n",
       "    <tr>\n",
       "      <th>18</th>\n",
       "      <td>111</td>\n",
       "      <td>2020-01-01</td>\n",
       "      <td>99641</td>\n",
       "      <td>Russia</td>\n",
       "      <td>8980</td>\n",
       "    </tr>\n",
       "    <tr>\n",
       "      <th>1180</th>\n",
       "      <td>111</td>\n",
       "      <td>2020-01-01</td>\n",
       "      <td>70725</td>\n",
       "      <td>Other</td>\n",
       "      <td>6131</td>\n",
       "    </tr>\n",
       "    <tr>\n",
       "      <th>1130</th>\n",
       "      <td>111</td>\n",
       "      <td>2020-01-02</td>\n",
       "      <td>72177</td>\n",
       "      <td>Other</td>\n",
       "      <td>6862</td>\n",
       "    </tr>\n",
       "    <tr>\n",
       "      <th>2599</th>\n",
       "      <td>111</td>\n",
       "      <td>2020-01-02</td>\n",
       "      <td>36003</td>\n",
       "      <td>Russia</td>\n",
       "      <td>1793</td>\n",
       "    </tr>\n",
       "    <tr>\n",
       "      <th>760</th>\n",
       "      <td>111</td>\n",
       "      <td>2020-01-03</td>\n",
       "      <td>81308</td>\n",
       "      <td>Other</td>\n",
       "      <td>3205</td>\n",
       "    </tr>\n",
       "    <tr>\n",
       "      <th>2794</th>\n",
       "      <td>111</td>\n",
       "      <td>2020-01-03</td>\n",
       "      <td>30923</td>\n",
       "      <td>Russia</td>\n",
       "      <td>900</td>\n",
       "    </tr>\n",
       "    <tr>\n",
       "      <th>1541</th>\n",
       "      <td>111</td>\n",
       "      <td>2020-01-04</td>\n",
       "      <td>60696</td>\n",
       "      <td>Other</td>\n",
       "      <td>2139</td>\n",
       "    </tr>\n",
       "    <tr>\n",
       "      <th>1833</th>\n",
       "      <td>111</td>\n",
       "      <td>2020-01-04</td>\n",
       "      <td>53500</td>\n",
       "      <td>Russia</td>\n",
       "      <td>5905</td>\n",
       "    </tr>\n",
       "    <tr>\n",
       "      <th>1030</th>\n",
       "      <td>111</td>\n",
       "      <td>2020-01-05</td>\n",
       "      <td>74816</td>\n",
       "      <td>Other</td>\n",
       "      <td>3721</td>\n",
       "    </tr>\n",
       "    <tr>\n",
       "      <th>1256</th>\n",
       "      <td>111</td>\n",
       "      <td>2020-01-05</td>\n",
       "      <td>68888</td>\n",
       "      <td>Russia</td>\n",
       "      <td>6948</td>\n",
       "    </tr>\n",
       "    <tr>\n",
       "      <th>286</th>\n",
       "      <td>111</td>\n",
       "      <td>2020-01-06</td>\n",
       "      <td>93496</td>\n",
       "      <td>Other</td>\n",
       "      <td>4904</td>\n",
       "    </tr>\n",
       "    <tr>\n",
       "      <th>708</th>\n",
       "      <td>111</td>\n",
       "      <td>2020-01-06</td>\n",
       "      <td>82382</td>\n",
       "      <td>Russia</td>\n",
       "      <td>8688</td>\n",
       "    </tr>\n",
       "    <tr>\n",
       "      <th>1846</th>\n",
       "      <td>111</td>\n",
       "      <td>2020-01-07</td>\n",
       "      <td>53219</td>\n",
       "      <td>Russia</td>\n",
       "      <td>1633</td>\n",
       "    </tr>\n",
       "    <tr>\n",
       "      <th>2744</th>\n",
       "      <td>111</td>\n",
       "      <td>2020-01-07</td>\n",
       "      <td>32276</td>\n",
       "      <td>Other</td>\n",
       "      <td>9038</td>\n",
       "    </tr>\n",
       "    <tr>\n",
       "      <th>2</th>\n",
       "      <td>111</td>\n",
       "      <td>2020-01-08</td>\n",
       "      <td>99872</td>\n",
       "      <td>Russia</td>\n",
       "      <td>7830</td>\n",
       "    </tr>\n",
       "    <tr>\n",
       "      <th>803</th>\n",
       "      <td>111</td>\n",
       "      <td>2020-01-08</td>\n",
       "      <td>80461</td>\n",
       "      <td>Other</td>\n",
       "      <td>313</td>\n",
       "    </tr>\n",
       "    <tr>\n",
       "      <th>1448</th>\n",
       "      <td>111</td>\n",
       "      <td>2020-01-09</td>\n",
       "      <td>63684</td>\n",
       "      <td>Other</td>\n",
       "      <td>9070</td>\n",
       "    </tr>\n",
       "    <tr>\n",
       "      <th>1595</th>\n",
       "      <td>111</td>\n",
       "      <td>2020-01-09</td>\n",
       "      <td>59248</td>\n",
       "      <td>Russia</td>\n",
       "      <td>6804</td>\n",
       "    </tr>\n",
       "    <tr>\n",
       "      <th>481</th>\n",
       "      <td>111</td>\n",
       "      <td>2020-01-10</td>\n",
       "      <td>88492</td>\n",
       "      <td>Russia</td>\n",
       "      <td>448</td>\n",
       "    </tr>\n",
       "    <tr>\n",
       "      <th>2536</th>\n",
       "      <td>111</td>\n",
       "      <td>2020-01-10</td>\n",
       "      <td>37318</td>\n",
       "      <td>Other</td>\n",
       "      <td>8302</td>\n",
       "    </tr>\n",
       "  </tbody>\n",
       "</table>\n",
       "</div>"
      ],
      "text/plain": [
       "      CounterID   EventDate  EventID Country  visits\n",
       "18          111  2020-01-01    99641  Russia    8980\n",
       "1180        111  2020-01-01    70725   Other    6131\n",
       "1130        111  2020-01-02    72177   Other    6862\n",
       "2599        111  2020-01-02    36003  Russia    1793\n",
       "760         111  2020-01-03    81308   Other    3205\n",
       "2794        111  2020-01-03    30923  Russia     900\n",
       "1541        111  2020-01-04    60696   Other    2139\n",
       "1833        111  2020-01-04    53500  Russia    5905\n",
       "1030        111  2020-01-05    74816   Other    3721\n",
       "1256        111  2020-01-05    68888  Russia    6948\n",
       "286         111  2020-01-06    93496   Other    4904\n",
       "708         111  2020-01-06    82382  Russia    8688\n",
       "1846        111  2020-01-07    53219  Russia    1633\n",
       "2744        111  2020-01-07    32276   Other    9038\n",
       "2           111  2020-01-08    99872  Russia    7830\n",
       "803         111  2020-01-08    80461   Other     313\n",
       "1448        111  2020-01-09    63684   Other    9070\n",
       "1595        111  2020-01-09    59248  Russia    6804\n",
       "481         111  2020-01-10    88492  Russia     448\n",
       "2536        111  2020-01-10    37318   Other    8302"
      ]
     },
     "execution_count": 15,
     "metadata": {},
     "output_type": "execute_result"
    }
   ],
   "source": [
    "logs.sort_values(['CounterID', 'EventDate']).head(20)"
   ]
  },
  {
   "cell_type": "code",
   "execution_count": 16,
   "metadata": {},
   "outputs": [],
   "source": [
    "logs_dict = {}\n",
    "prev_counter = None\n",
    "prev_date = None\n",
    "\n",
    "with open('logs_sorted_by_pk.csv') as f:\n",
    "    f.readline()\n",
    "    \n",
    "    for i, line in enumerate(f):\n",
    "        counter_id, event_date, event_id, country, visits = line.strip().split(',')\n",
    "        \n",
    "        if prev_counter:\n",
    "            if counter_id == prev_counter and event_date == prev_date:\n",
    "                current_pk_data.append((event_id, country, int(visits)))\n",
    "            else:\n",
    "                logs_dict[(prev_counter, prev_date)] = current_pk_data\n",
    "                current_pk_data = [(event_id, country, int(visits))]\n",
    "                \n",
    "        else:\n",
    "            current_pk_data = [(event_id, country, int(visits))]\n",
    "\n",
    "        prev_counter = counter_id\n",
    "        prev_date = event_date\n",
    "\n",
    "logs_dict[(prev_counter, prev_date)] = current_pk_data"
   ]
  },
  {
   "cell_type": "code",
   "execution_count": 19,
   "metadata": {},
   "outputs": [
    {
     "name": "stdout",
     "output_type": "stream",
     "text": [
      "('99346', 'Russia', 4641)\n",
      "('77639', 'Other', 9049)\n"
     ]
    }
   ],
   "source": [
    "for i in logs_dict[('333', '2020-07-01')]:\n",
    "    print(i)"
   ]
  },
  {
   "cell_type": "code",
   "execution_count": 20,
   "metadata": {
    "scrolled": true
   },
   "outputs": [
    {
     "data": {
      "text/plain": [
       "13690"
      ]
     },
     "execution_count": 20,
     "metadata": {},
     "output_type": "execute_result"
    }
   ],
   "source": [
    "sum([x[2] for x in logs_dict[('333', '2020-07-01')]])"
   ]
  },
  {
   "cell_type": "code",
   "execution_count": 21,
   "metadata": {},
   "outputs": [
    {
     "name": "stdout",
     "output_type": "stream",
     "text": [
      "CPU times: user 6.38 ms, sys: 125 µs, total: 6.51 ms\n",
      "Wall time: 8.44 ms\n"
     ]
    }
   ],
   "source": [
    "%%time\n",
    "\n",
    "for _ in range(10**4):\n",
    "    sum([x[2] for x in logs_dict[('333', '2020-07-01')]])"
   ]
  },
  {
   "cell_type": "code",
   "execution_count": null,
   "metadata": {},
   "outputs": [],
   "source": [
    "logs_dict"
   ]
  },
  {
   "cell_type": "markdown",
   "metadata": {},
   "source": [
    "# Создание таблицы в Кликхаусе из файла логов\n",
    "Копируем файл logs_no_header.csv в контейнер container_id (можно узнать через команду docker ps)\n",
    "```\n",
    "docker cp logs_no_header.csv container_id:/\n",
    "```\n",
    "\n",
    "Заходим в контейнер\n",
    "```\n",
    "docker exec -it container_id bash\n",
    "```\n",
    "\n",
    "Заходим в клиент Кликхауса\n",
    "```\n",
    "clickhouse-client\n",
    "```\n",
    "\n",
    "Используем любую базу данных (либо создаем ее create database datasets)\n",
    "```\n",
    "use datasets\n",
    "```\n",
    "\n",
    "Создаем таблицу logs\n",
    "```\n",
    "CREATE TABLE logs\n",
    "(\n",
    "    `CounterID` UInt32,\n",
    "    `EventDate` Date,\n",
    "    `EventID` UInt32,\n",
    "    `Country` String,\n",
    "    `Visits` UInt32\n",
    ")\n",
    "ENGINE = MergeTree\n",
    "PARTITION BY toYYYYMM(EventDate)\n",
    "ORDER BY (CounterID, EventDate)\n",
    "```\n",
    "\n",
    "Заливаем данные из файла logs_no_header.csv в таблицу logs:\n",
    "```\n",
    "cat logs_no_header.csv | clickhouse-client --database datasets --query \"INSERT INTO logs FORMAT TSV\"\n",
    "```\n",
    "\n",
    "Проверяем первые 5 строк:\n",
    "```\n",
    "clickhouse-client --database datasets --query 'select * from logs limit 5'\n",
    "```\n",
    "\n",
    "На выходе получим уже отсортированные по CounterID, EventDate строки:\n",
    "```\n",
    "111\t2020-01-01\t99641\tRussia\t8980\n",
    "111\t2020-01-01\t70725\tOther\t6131\n",
    "111\t2020-01-02\t72177\tOther\t6862\n",
    "111\t2020-01-02\t36003\tRussia\t1793\n",
    "111\t2020-01-03\t81308\tOther\t3205\n",
    "```"
   ]
  }
 ],
 "metadata": {
  "kernelspec": {
   "display_name": "Python 3",
   "language": "python",
   "name": "python3"
  },
  "language_info": {
   "codemirror_mode": {
    "name": "ipython",
    "version": 3
   },
   "file_extension": ".py",
   "mimetype": "text/x-python",
   "name": "python",
   "nbconvert_exporter": "python",
   "pygments_lexer": "ipython3",
   "version": "3.7.0"
  }
 },
 "nbformat": 4,
 "nbformat_minor": 2
}
