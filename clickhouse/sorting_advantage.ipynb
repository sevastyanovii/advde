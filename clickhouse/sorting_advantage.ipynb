{
 "cells": [
  {
   "cell_type": "code",
   "execution_count": 1,
   "metadata": {
    "scrolled": true
   },
   "outputs": [
    {
     "data": {
      "text/plain": [
       "{'червы': 25020, 'пики': 24934, 'бубны': 24932, 'трефы': 25114}"
      ]
     },
     "execution_count": 1,
     "metadata": {},
     "output_type": "execute_result"
    }
   ],
   "source": [
    "stats = {}\n",
    "with open('cards.csv') as f:\n",
    "    for line in f:\n",
    "        card, value = line.strip().split(',')\n",
    "\n",
    "        stats.setdefault(card, 0)\n",
    "        stats[card] += 1\n",
    "        \n",
    "stats"
   ]
  },
  {
   "cell_type": "markdown",
   "metadata": {},
   "source": [
    "При сортированных данных все обрабатывается построчно"
   ]
  },
  {
   "cell_type": "code",
   "execution_count": 1,
   "metadata": {},
   "outputs": [
    {
     "name": "stdout",
     "output_type": "stream",
     "text": [
      "бубны 24932\n",
      "пики 24934\n",
      "трефы 25114\n",
      "червы 25020\n"
     ]
    }
   ],
   "source": [
    "previous_card = None\n",
    "card_count = 1\n",
    "\n",
    "with open('cards_sorted.csv') as f:\n",
    "    f.readline()\n",
    "    for line in f:\n",
    "        card, value = line.strip().split(',')\n",
    "\n",
    "        if previous_card:\n",
    "            if card == previous_card:\n",
    "                card_count += 1\n",
    "            else:\n",
    "                print(previous_card, card_count)\n",
    "                card_count = 1\n",
    "\n",
    "        previous_card = card\n",
    "        \n",
    "print(previous_card, card_count)"
   ]
  },
  {
   "cell_type": "markdown",
   "metadata": {},
   "source": [
    "# Загрузка данных в КХ (домашнее задание)\n",
    "Создайте базу homework\n",
    "```\n",
    "CREATE DATABASE homework\n",
    "```\n",
    "\n",
    "Создаем таблицу metrika\n",
    "```\n",
    "CREATE TABLE homework.metrika\n",
    "(\n",
    "    `EventDate` Date,\n",
    "    `CounterID` UInt32,\n",
    "    `UserID` UInt64,\n",
    "    `RegionID` UInt32\n",
    ")\n",
    "ENGINE = MergeTree()\n",
    "PARTITION BY toYYYYMM(EventDate)\n",
    "ORDER BY (CounterID, EventDate, intHash32(UserID))\n",
    "```\n",
    "\n",
    "Заливаем данные в таблицу\n",
    "```\n",
    "cat metrika_sample.tsv | clickhouse-client --database homework --query \"INSERT INTO metrika FORMAT TSV\"\n",
    "```\n",
    "\n",
    "Посчитайте какой пользователь UserID сделал больше всего просмотров страниц?"
   ]
  }
 ],
 "metadata": {
  "kernelspec": {
   "display_name": "Python 3",
   "language": "python",
   "name": "python3"
  },
  "language_info": {
   "codemirror_mode": {
    "name": "ipython",
    "version": 3
   },
   "file_extension": ".py",
   "mimetype": "text/x-python",
   "name": "python",
   "nbconvert_exporter": "python",
   "pygments_lexer": "ipython3",
   "version": "3.8.8"
  }
 },
 "nbformat": 4,
 "nbformat_minor": 2
}
