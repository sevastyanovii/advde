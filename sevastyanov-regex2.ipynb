{
 "cells": [
  {
   "cell_type": "code",
   "execution_count": 1,
   "id": "6b785be5",
   "metadata": {},
   "outputs": [],
   "source": [
    "\n",
    "\n",
    "\n"
   ]
  },
  {
   "cell_type": "code",
   "execution_count": 46,
   "id": "4af7ea61",
   "metadata": {
    "scrolled": true
   },
   "outputs": [
    {
     "name": "stdout",
     "output_type": "stream",
     "text": [
      "[('A222BC', '96')]\n",
      "Номер A222BC валиден. Регион: 96\n",
      "[]\n",
      "Номер не валиден\n"
     ]
    }
   ],
   "source": [
    "# Задание 1\n",
    "# Напишите функцию, которая принимает на вход строку и проверяет является ли \n",
    "# она валидным транспортным номером (1 буква, 3 цифры, 2 буквы, 2-3 цифры). \n",
    "# Обратите внимание, что не все буквы кириллического алфавита используются в транспортных номерах.\n",
    "\n",
    "# Если номер валиден, то функция должна возвращать отдельно номер и регион.\n",
    "\n",
    "# Примеры работы программы:\n",
    "\n",
    "# car_id = 'A222BC96'\n",
    "# Результат: Номер A222BС валиден. Регион: 96\n",
    "\n",
    "# car_id = 'АБ22ВВ193'\n",
    "# Результат: Номер не валиден\n",
    "\n",
    "# return A+1 if A > B else A-1\n",
    "\n",
    "import re\n",
    "\n",
    "\n",
    "def parseNum(n):\n",
    "    reg = r'(\\w\\d{3}\\w{2})(\\d{2,3})'\n",
    "    res = re.findall(reg, n)\n",
    "    print(res)\n",
    "    return res\n",
    "    \n",
    "def parseResult(r):\n",
    "    return f'Номер {r[0][0]} валиден. Регион: {r[0][1]}' if len(r) > 0  else 'Номер не валиден'\n",
    "\n",
    "\n",
    "num1 = 'A222BC96'\n",
    "print(parseResult(parseNum(num1)))\n",
    "\n",
    "num2 = 'АБ22ВВ193'\n",
    "print(parseResult(parseNum(num2)))\n"
   ]
  },
  {
   "cell_type": "code",
   "execution_count": 54,
   "id": "5e6acb47",
   "metadata": {},
   "outputs": [
    {
     "data": {
      "text/plain": [
       "'Напишите функцию, которая будет удалять \\n все последовательные повторы слов из заданной строки при помощи регулярных выражений.'"
      ]
     },
     "execution_count": 54,
     "metadata": {},
     "output_type": "execute_result"
    }
   ],
   "source": [
    "# Задание 2\n",
    "# Напишите функцию, которая будет удалять все последовательные повторы \n",
    "# слов из заданной строки при помощи регулярных выражений.\n",
    "\n",
    "# Пример работы программы:\n",
    "\n",
    "# some_string = 'Напишите функцию функцию, которая будет будет будет будет удалять \n",
    "# все все все все последовательные повторы слов из из из из заданной строки строки при помощи регулярных выражений.'\n",
    "\n",
    "# Результат:\n",
    "# Напишите функцию, которая будет удалять все последовательные повторы слов \n",
    "# из заданной строки при помощи регулярных выражений.\n",
    "\n",
    "some_string = \"\"\"Напишите функцию функцию, которая будет будет будет будет удалять \n",
    " все все все все последовательные повторы слов из из из из заданной строки строки при помощи регулярных выражений.\"\"\"\n",
    "\n",
    "re.sub(r'\\b(\\w+)( \\1\\b)+', r'\\1', some_string)\n"
   ]
  },
  {
   "cell_type": "code",
   "execution_count": 69,
   "id": "2bc19e33",
   "metadata": {},
   "outputs": [
    {
     "name": "stdout",
     "output_type": "stream",
     "text": [
      "ИТ\n",
      "NFC\n"
     ]
    }
   ],
   "source": [
    "# Задание 3\n",
    "# Напишите функцию, которая будет возвращать акроним по переданной в нее строке со словами.\n",
    "\n",
    "# Примеры работы программы:\n",
    "\n",
    "some_words1 = 'Информационные технологии'\n",
    "# Результат: ИТ\n",
    "\n",
    "some_words2 = 'Near Field Communication'\n",
    "# Результат: NFC\n",
    "\n",
    "def acro(s):\n",
    "    return ''.join([x[:1].capitalize() for x in re.findall(r'\\w+', s)])\n",
    "    \n",
    "print(acro(some_words1))\n",
    "print(acro(some_words2))"
   ]
  },
  {
   "cell_type": "code",
   "execution_count": 88,
   "id": "e1e6479a",
   "metadata": {},
   "outputs": [
    {
     "name": "stdout",
     "output_type": "stream",
     "text": [
      "gmail.com 2\n",
      "test.in 1\n",
      "ya.ru 2\n",
      "mail.ru 1\n"
     ]
    }
   ],
   "source": [
    "# Задание 4\n",
    "# Напишите функцию, которая будет принимать на вход список email-адресов и выводить их распределение по доменным зонам.\n",
    "\n",
    "# Пример работы программы:\n",
    "\n",
    "emails = ['test@gmail.com', 'xyz@test.in', 'test@ya.ru', 'xyz@mail.ru', 'xyz@ya.ru', 'xyz@gmail.com']\n",
    "\n",
    "# Результат:\n",
    "\n",
    "# gmail.com: 2\n",
    "# test.in: 1 \n",
    "# ya.ru: 2 \n",
    "# mail.ru: 1\n",
    "\n",
    "def print_stat(e):\n",
    "    d = dict()\n",
    "    for x in e:\n",
    "        k = re.search(r'@\\w+\\.\\w{2,3}$', x).group()[1:]\n",
    "        d.setdefault(k, 0)\n",
    "        d[k] += 1\n",
    "    for x in d:\n",
    "        print(x, d[x])\n",
    "    \n",
    "print_stat(emails)\n"
   ]
  }
 ],
 "metadata": {
  "kernelspec": {
   "display_name": "Python 3",
   "language": "python",
   "name": "python3"
  },
  "language_info": {
   "codemirror_mode": {
    "name": "ipython",
    "version": 3
   },
   "file_extension": ".py",
   "mimetype": "text/x-python",
   "name": "python",
   "nbconvert_exporter": "python",
   "pygments_lexer": "ipython3",
   "version": "3.8.8"
  }
 },
 "nbformat": 4,
 "nbformat_minor": 5
}
