{
 "cells": [
  {
   "cell_type": "code",
   "execution_count": 4,
   "id": "88410b8d",
   "metadata": {},
   "outputs": [
    {
     "data": {
      "text/plain": [
       "['H', 'e', 'l', 'l', 'o', '', 'w', 'o', 'r', 'l', 'd', '', '']"
      ]
     },
     "execution_count": 4,
     "metadata": {},
     "output_type": "execute_result"
    }
   ],
   "source": [
    "import re\n",
    "\n",
    "re.findall(r'\\w?', 'Hello world!')"
   ]
  },
  {
   "cell_type": "code",
   "execution_count": null,
   "id": "fffb33b5",
   "metadata": {},
   "outputs": [],
   "source": []
  },
  {
   "cell_type": "code",
   "execution_count": 9,
   "id": "145c8441",
   "metadata": {},
   "outputs": [
    {
     "name": "stdout",
     "output_type": "stream",
     "text": [
      "['Лайков: 10'] ['Репостов: 100']\n"
     ]
    }
   ],
   "source": [
    "msg = 'Опять дождь! Лайков: 10. Еще что-то Репостов: 100'\n",
    "print(re.findall(r'Лайков:\\s\\d+', msg), re.findall(r'Репостов:\\s\\d+', msg))"
   ]
  },
  {
   "cell_type": "code",
   "execution_count": 18,
   "id": "7c2ae43e",
   "metadata": {},
   "outputs": [
    {
     "data": {
      "text/plain": [
       "['привет', 'какая', 'хорошая', 'погода', 'сегодня!']"
      ]
     },
     "execution_count": 18,
     "metadata": {},
     "output_type": "execute_result"
    }
   ],
   "source": [
    "msg = 'привет, какая хорошая погода сегодня!'\n",
    "\n",
    "re.split(r'\\b\\W+\\b', msg)"
   ]
  }
 ],
 "metadata": {
  "kernelspec": {
   "display_name": "Python 3",
   "language": "python",
   "name": "python3"
  },
  "language_info": {
   "codemirror_mode": {
    "name": "ipython",
    "version": 3
   },
   "file_extension": ".py",
   "mimetype": "text/x-python",
   "name": "python",
   "nbconvert_exporter": "python",
   "pygments_lexer": "ipython3",
   "version": "3.8.8"
  }
 },
 "nbformat": 4,
 "nbformat_minor": 5
}
