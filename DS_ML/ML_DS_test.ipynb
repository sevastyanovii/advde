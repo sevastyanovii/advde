{
 "cells": [
  {
   "cell_type": "code",
   "execution_count": 4,
   "id": "81cf2335",
   "metadata": {},
   "outputs": [
    {
     "name": "stdout",
     "output_type": "stream",
     "text": [
      "[[1 2 3 4 5 6]\n",
      " [1 2 3 4 5 6]]\n",
      "[1. 2. 3. 4. 5. 6.]\n",
      "[3.5 3.5]\n"
     ]
    }
   ],
   "source": [
    "\n",
    "from numpy import array\n",
    "from numpy import mean\n",
    "M = array([[1,2,3,4,5,6],[1,2,3,4,5,6]])\n",
    "print(M)\n",
    "col_mean = mean(M, axis=0)\n",
    "print(col_mean)\n",
    "row_mean = mean(M, axis=1)\n",
    "print(row_mean)\n"
   ]
  },
  {
   "cell_type": "code",
   "execution_count": 5,
   "id": "506b0e4a",
   "metadata": {},
   "outputs": [
    {
     "name": "stdout",
     "output_type": "stream",
     "text": [
      "[1.33333333 2.         3.         4.         5.         6.        ]\n"
     ]
    }
   ],
   "source": [
    "\n",
    "M = array([[1,2,3,4,5,6],[1,2,3,4,5,6],[2,2,3,4,5,6]])\n",
    "col_mean = mean(M, axis=0)\n",
    "print(col_mean)"
   ]
  },
  {
   "cell_type": "code",
   "execution_count": 2,
   "id": "6065b593",
   "metadata": {},
   "outputs": [
    {
     "name": "stdout",
     "output_type": "stream",
     "text": [
      "[1 2 3 4 5 6]\n",
      "3.5\n"
     ]
    }
   ],
   "source": [
    "from numpy import mean\n",
    "v = array([1,2,3,4,5,6])\n",
    "print(v)\n",
    "result = mean(v)\n",
    "print(result)"
   ]
  },
  {
   "cell_type": "code",
   "execution_count": 7,
   "id": "f533df9c",
   "metadata": {},
   "outputs": [
    {
     "name": "stdout",
     "output_type": "stream",
     "text": [
      "16\n"
     ]
    }
   ],
   "source": [
    "print(4**2)"
   ]
  },
  {
   "cell_type": "code",
   "execution_count": null,
   "id": "11a53374",
   "metadata": {},
   "outputs": [],
   "source": []
  }
 ],
 "metadata": {
  "kernelspec": {
   "display_name": "Python 3",
   "language": "python",
   "name": "python3"
  },
  "language_info": {
   "codemirror_mode": {
    "name": "ipython",
    "version": 3
   },
   "file_extension": ".py",
   "mimetype": "text/x-python",
   "name": "python",
   "nbconvert_exporter": "python",
   "pygments_lexer": "ipython3",
   "version": "3.8.8"
  }
 },
 "nbformat": 4,
 "nbformat_minor": 5
}
