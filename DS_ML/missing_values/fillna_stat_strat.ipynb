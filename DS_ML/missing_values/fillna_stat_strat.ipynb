{
 "cells": [
  {
   "cell_type": "code",
   "execution_count": null,
   "metadata": {
    "id": "VPn3yt6MSHFq"
   },
   "outputs": [],
   "source": [
    "import numpy as np\n",
    "import pandas as pd"
   ]
  },
  {
   "cell_type": "code",
   "execution_count": null,
   "metadata": {
    "id": "UCcbJlrRTM62"
   },
   "outputs": [],
   "source": [
    "from sklearn.cluster import KMeans\n",
    "from sklearn.preprocessing import StandardScaler\n",
    "from tqdm.notebook import trange, tqdm"
   ]
  },
  {
   "cell_type": "code",
   "execution_count": null,
   "metadata": {
    "id": "F4SSd4BhvIpB"
   },
   "outputs": [],
   "source": [
    "from sklearn.datasets import load_diabetes"
   ]
  },
  {
   "cell_type": "code",
   "execution_count": null,
   "metadata": {
    "colab": {
     "base_uri": "https://localhost:8080/"
    },
    "id": "I4CcPD5tvp9q",
    "outputId": "a33a3ff3-fe7c-4f16-ed2b-3409a8cb9aa8"
   },
   "outputs": [
    {
     "data": {
      "text/plain": [
       "dict_keys(['data', 'target', 'DESCR', 'feature_names', 'data_filename', 'target_filename'])"
      ]
     },
     "execution_count": 4,
     "metadata": {
      "tags": []
     },
     "output_type": "execute_result"
    }
   ],
   "source": [
    "load_diabetes().keys()"
   ]
  },
  {
   "cell_type": "code",
   "execution_count": null,
   "metadata": {
    "colab": {
     "base_uri": "https://localhost:8080/",
     "height": 204
    },
    "id": "O-Y74RW-vVnV",
    "outputId": "72ba02b2-5e40-4b4b-85a8-c2abd386419f"
   },
   "outputs": [
    {
     "data": {
      "text/html": [
       "<div>\n",
       "<style scoped>\n",
       "    .dataframe tbody tr th:only-of-type {\n",
       "        vertical-align: middle;\n",
       "    }\n",
       "\n",
       "    .dataframe tbody tr th {\n",
       "        vertical-align: top;\n",
       "    }\n",
       "\n",
       "    .dataframe thead th {\n",
       "        text-align: right;\n",
       "    }\n",
       "</style>\n",
       "<table border=\"1\" class=\"dataframe\">\n",
       "  <thead>\n",
       "    <tr style=\"text-align: right;\">\n",
       "      <th></th>\n",
       "      <th>age</th>\n",
       "      <th>sex</th>\n",
       "      <th>bmi</th>\n",
       "      <th>bp</th>\n",
       "      <th>s1</th>\n",
       "      <th>s2</th>\n",
       "      <th>s3</th>\n",
       "      <th>s4</th>\n",
       "      <th>s5</th>\n",
       "      <th>s6</th>\n",
       "    </tr>\n",
       "  </thead>\n",
       "  <tbody>\n",
       "    <tr>\n",
       "      <th>0</th>\n",
       "      <td>0.038076</td>\n",
       "      <td>0.050680</td>\n",
       "      <td>0.061696</td>\n",
       "      <td>0.021872</td>\n",
       "      <td>-0.044223</td>\n",
       "      <td>-0.034821</td>\n",
       "      <td>-0.043401</td>\n",
       "      <td>-0.002592</td>\n",
       "      <td>0.019908</td>\n",
       "      <td>-0.017646</td>\n",
       "    </tr>\n",
       "    <tr>\n",
       "      <th>1</th>\n",
       "      <td>-0.001882</td>\n",
       "      <td>-0.044642</td>\n",
       "      <td>-0.051474</td>\n",
       "      <td>-0.026328</td>\n",
       "      <td>-0.008449</td>\n",
       "      <td>-0.019163</td>\n",
       "      <td>0.074412</td>\n",
       "      <td>-0.039493</td>\n",
       "      <td>-0.068330</td>\n",
       "      <td>-0.092204</td>\n",
       "    </tr>\n",
       "    <tr>\n",
       "      <th>2</th>\n",
       "      <td>0.085299</td>\n",
       "      <td>0.050680</td>\n",
       "      <td>0.044451</td>\n",
       "      <td>-0.005671</td>\n",
       "      <td>-0.045599</td>\n",
       "      <td>-0.034194</td>\n",
       "      <td>-0.032356</td>\n",
       "      <td>-0.002592</td>\n",
       "      <td>0.002864</td>\n",
       "      <td>-0.025930</td>\n",
       "    </tr>\n",
       "    <tr>\n",
       "      <th>3</th>\n",
       "      <td>-0.089063</td>\n",
       "      <td>-0.044642</td>\n",
       "      <td>-0.011595</td>\n",
       "      <td>-0.036656</td>\n",
       "      <td>0.012191</td>\n",
       "      <td>0.024991</td>\n",
       "      <td>-0.036038</td>\n",
       "      <td>0.034309</td>\n",
       "      <td>0.022692</td>\n",
       "      <td>-0.009362</td>\n",
       "    </tr>\n",
       "    <tr>\n",
       "      <th>4</th>\n",
       "      <td>0.005383</td>\n",
       "      <td>-0.044642</td>\n",
       "      <td>-0.036385</td>\n",
       "      <td>0.021872</td>\n",
       "      <td>0.003935</td>\n",
       "      <td>0.015596</td>\n",
       "      <td>0.008142</td>\n",
       "      <td>-0.002592</td>\n",
       "      <td>-0.031991</td>\n",
       "      <td>-0.046641</td>\n",
       "    </tr>\n",
       "  </tbody>\n",
       "</table>\n",
       "</div>"
      ],
      "text/plain": [
       "        age       sex       bmi  ...        s4        s5        s6\n",
       "0  0.038076  0.050680  0.061696  ... -0.002592  0.019908 -0.017646\n",
       "1 -0.001882 -0.044642 -0.051474  ... -0.039493 -0.068330 -0.092204\n",
       "2  0.085299  0.050680  0.044451  ... -0.002592  0.002864 -0.025930\n",
       "3 -0.089063 -0.044642 -0.011595  ...  0.034309  0.022692 -0.009362\n",
       "4  0.005383 -0.044642 -0.036385  ... -0.002592 -0.031991 -0.046641\n",
       "\n",
       "[5 rows x 10 columns]"
      ]
     },
     "execution_count": 5,
     "metadata": {
      "tags": []
     },
     "output_type": "execute_result"
    }
   ],
   "source": [
    "data = load_diabetes()\n",
    "feature_names = data.feature_names\n",
    "df = pd.DataFrame(data.data, columns = feature_names)\n",
    "df.head()"
   ]
  },
  {
   "cell_type": "code",
   "execution_count": null,
   "metadata": {
    "colab": {
     "base_uri": "https://localhost:8080/"
    },
    "id": "JmEllihPwk_k",
    "outputId": "f88a6ad2-c758-4c4e-ebce-4b76c67c4dc1"
   },
   "outputs": [
    {
     "name": "stdout",
     "output_type": "stream",
     "text": [
      "<class 'pandas.core.frame.DataFrame'>\n",
      "RangeIndex: 442 entries, 0 to 441\n",
      "Data columns (total 10 columns):\n",
      " #   Column  Non-Null Count  Dtype  \n",
      "---  ------  --------------  -----  \n",
      " 0   age     442 non-null    float64\n",
      " 1   sex     442 non-null    float64\n",
      " 2   bmi     442 non-null    float64\n",
      " 3   bp      442 non-null    float64\n",
      " 4   s1      442 non-null    float64\n",
      " 5   s2      442 non-null    float64\n",
      " 6   s3      442 non-null    float64\n",
      " 7   s4      442 non-null    float64\n",
      " 8   s5      442 non-null    float64\n",
      " 9   s6      442 non-null    float64\n",
      "dtypes: float64(10)\n",
      "memory usage: 34.7 KB\n"
     ]
    }
   ],
   "source": [
    "df.info()"
   ]
  },
  {
   "cell_type": "code",
   "execution_count": null,
   "metadata": {
    "colab": {
     "base_uri": "https://localhost:8080/"
    },
    "id": "lvzbRyFLXwzY",
    "outputId": "aeeeca80-1f8a-4041-fd8a-a703fa313139"
   },
   "outputs": [
    {
     "name": "stdout",
     "output_type": "stream",
     "text": [
      "start:  0.002926763472746897 0.04569703448706017\n",
      "finish:  0.0375292147985165 0.02623629055228237\n"
     ]
    }
   ],
   "source": [
    "\n",
    "prop_null = 0.1\n",
    "pr = 'bmi'\n",
    "\n",
    "data = df.copy()\n",
    "data.loc[np.random.randint(0,df.shape[0],int(df.shape[0]*prop_null//1)),pr] = None\n",
    "ind = data[data[pr].isna()].index\n",
    "cols = list(data.select_dtypes([np.number]).columns) \n",
    "cols.remove(pr)\n",
    "delta_ = np.array(data.fillna(data[pr].mean()).loc[ind, pr] - df.loc[ind, pr])\n",
    "print('start: ',delta_.mean(),delta_.std())\n",
    "kmeans = KMeans(n_clusters=1).fit(data.loc[~data.index.isin(ind),cols])\n",
    "data['cl'] = kmeans.predict(data[cols])\n",
    "for i in ind:\n",
    "  data.at[i, pr] = data[data['cl'] == data.at[i,'cl']][pr].mean()\n",
    "delta = np.abs(np.array(data.loc[ind, pr] - df.loc[ind, pr]))\n",
    "print('finish: ',delta.mean(),delta.std())     "
   ]
  },
  {
   "cell_type": "code",
   "execution_count": null,
   "metadata": {
    "colab": {
     "base_uri": "https://localhost:8080/"
    },
    "id": "FZkN83vHY9_U",
    "outputId": "18871e5d-c60f-407b-9f3b-ec352f02e104"
   },
   "outputs": [
    {
     "name": "stdout",
     "output_type": "stream",
     "text": [
      " 0.026 -> -0.001  \t+\n",
      " 0.058 -> -0.031  \t+\n",
      " -0.010 -> 0.037  \t-\n",
      " 0.024 -> 0.001  \t+\n",
      " 0.005 -> 0.022  \t-\n",
      " 0.021 -> -0.047  \t-\n",
      " -0.009 -> 0.000  \t+\n",
      " 0.006 -> -0.015  \t-\n",
      " -0.058 -> 0.049  \t+\n",
      " -0.023 -> 0.048  \t-\n",
      " 0.071 -> -0.044  \t+\n",
      " -0.047 -> 0.021  \t+\n",
      " 0.034 -> -0.043  \t-\n",
      " 0.066 -> -0.040  \t+\n",
      " 0.061 -> -0.034  \t+\n",
      " -0.059 -> 0.033  \t+\n",
      " -0.009 -> 0.000  \t+\n",
      " -0.042 -> 0.015  \t+\n",
      " 0.055 -> -0.029  \t+\n",
      " 0.013 -> -0.039  \t-\n",
      " 0.047 -> -0.022  \t+\n",
      " -0.006 -> -0.003  \t+\n",
      " 0.040 -> -0.014  \t+\n",
      " 0.025 -> -0.034  \t-\n",
      " -0.018 -> -0.008  \t+\n",
      " -0.092 -> 0.119  \t-\n",
      " 0.032 -> -0.041  \t-\n",
      " 0.025 -> -0.034  \t-\n",
      " 0.040 -> -0.049  \t-\n",
      " -0.004 -> 0.029  \t-\n",
      " 0.008 -> -0.034  \t-\n",
      " -0.053 -> 0.027  \t+\n",
      " 0.057 -> -0.066  \t-\n",
      " -0.021 -> 0.012  \t+\n",
      " -0.017 -> -0.009  \t+\n",
      " 0.025 -> -0.034  \t-\n",
      " -0.002 -> -0.024  \t-\n",
      " -0.001 -> 0.027  \t-\n",
      " 0.071 -> -0.044  \t+\n",
      " -0.053 -> 0.078  \t-\n",
      " 0.061 -> -0.036  \t+\n",
      " -0.001 -> 0.026  \t-\n"
     ]
    }
   ],
   "source": [
    "_=[print(f\" {x:4.3f} -> {y:4.3f}  \\t{'+' if np.abs(x) > np.abs(y) else '-'}\") for x,y in zip(delta_,(df - data).loc[ind,pr])]"
   ]
  },
  {
   "cell_type": "code",
   "execution_count": null,
   "metadata": {
    "id": "BK3d7rbG1CLW"
   },
   "outputs": [],
   "source": []
  }
 ],
 "metadata": {
  "colab": {
   "collapsed_sections": [],
   "name": "fillna_stat_strat.ipynb",
   "provenance": []
  },
  "kernelspec": {
   "display_name": "Python 3",
   "language": "python",
   "name": "python3"
  },
  "language_info": {
   "codemirror_mode": {
    "name": "ipython",
    "version": 3
   },
   "file_extension": ".py",
   "mimetype": "text/x-python",
   "name": "python",
   "nbconvert_exporter": "python",
   "pygments_lexer": "ipython3",
   "version": "3.8.8"
  }
 },
 "nbformat": 4,
 "nbformat_minor": 1
}
