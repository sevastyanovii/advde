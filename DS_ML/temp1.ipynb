{
 "cells": [
  {
   "cell_type": "code",
   "execution_count": 1,
   "id": "9ef2b8ea",
   "metadata": {},
   "outputs": [
    {
     "name": "stdout",
     "output_type": "stream",
     "text": [
      "[-1.11714133] [-1.01209489]\n",
      "[1.01747902] [1.9845196]\n"
     ]
    }
   ],
   "source": [
    "import numpy as np\n",
    "\n",
    "# инициализация повторяемой последовательности случайных чисел\n",
    "np.random.seed(42) \n",
    "\n",
    "# создаём np-массив из 1000 случайных чисел в диапазоне 0..1\n",
    "sz = 1000\n",
    "x = np.random.rand(sz, 1) \n",
    "\n",
    "# строим функцию y = f(x) и добавляем немного гауссова шума\n",
    "y = 1 + 2 * x  + 0.1 * np.random.randn(sz, 1) \n",
    "\n",
    "# формируем индексы от 0 до 999 \n",
    "idx = np.arange(sz)\n",
    "# случайно их тасуем\n",
    "np.random.shuffle(idx)\n",
    "\n",
    "train_idx = idx\n",
    "\n",
    "# формируем наборы обучающих данных\n",
    "x_train, y_train = x[train_idx], y[train_idx]\n",
    "\n",
    "# задаём начальные случайные значения коэффициентам линейной регрессии \n",
    "a = np.random.randn(1)\n",
    "b = np.random.randn(1)\n",
    "print(a,b)\n",
    "\n",
    "# скорость обучения\n",
    "lr = 0.01\n",
    "# количество эпох\n",
    "n_epochs = 10000\n",
    "\n",
    "# основной цикл\n",
    "for epoch in range(n_epochs):\n",
    "  \n",
    "    # рассчитываем результирующий массив с текущими коэффициентами a и b\n",
    "    # на основе обучающей выборки \n",
    "    yhat = a + b * x_train\n",
    "    \n",
    "    # 1. определяем лосс\n",
    "    # считаем отклонение нового результата от обучающего:\n",
    "    error = (y_train - yhat)\n",
    "    \n",
    "    # 2. считаем градиенты (вспоминая формулу производной)\n",
    "    # для коэффициента a\n",
    "    a_grad = -2 * error.mean()\n",
    "    # для коэффициента b\n",
    "    b_grad = -2 * (x_train * error).mean()\n",
    "    \n",
    "    # 3. обновляем параметры, используя коэффициент скорости обучения\n",
    "    a = a - lr * a_grad\n",
    "    b = b - lr * b_grad\n",
    "print(a,b)   "
   ]
  },
  {
   "cell_type": "code",
   "execution_count": 6,
   "id": "713ad76b",
   "metadata": {},
   "outputs": [],
   "source": [
    "a = [1,2,3,4,5]\n"
   ]
  },
  {
   "cell_type": "code",
   "execution_count": null,
   "id": "46800dc8",
   "metadata": {},
   "outputs": [],
   "source": []
  }
 ],
 "metadata": {
  "kernelspec": {
   "display_name": "Python 3",
   "language": "python",
   "name": "python3"
  },
  "language_info": {
   "codemirror_mode": {
    "name": "ipython",
    "version": 3
   },
   "file_extension": ".py",
   "mimetype": "text/x-python",
   "name": "python",
   "nbconvert_exporter": "python",
   "pygments_lexer": "ipython3",
   "version": "3.8.8"
  }
 },
 "nbformat": 4,
 "nbformat_minor": 5
}
