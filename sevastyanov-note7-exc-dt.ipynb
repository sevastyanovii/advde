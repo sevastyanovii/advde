{
 "cells": [
  {
   "cell_type": "code",
   "execution_count": 1,
   "id": "973c8267",
   "metadata": {},
   "outputs": [],
   "source": [
    "\n",
    "# Задание 4 (бонусное)\n",
    "# Ваш коллега прислал код функции:\n",
    "\n",
    "# DEFAULT_USER_COUNT = 3\n",
    "\n",
    "# def delete_and_return_last_user(region, default_list=[‘A100’, ‘A101’, ‘A102’]):\n",
    "# \"\"“\n",
    "# Удаляет из списка default_list последнего пользователя\n",
    "# и возвращает ID нового последнего пользователя.\n",
    "# ”\"\"\n",
    "# element_to_delete = default_list[-1]\n",
    "# default_list.remove(element_to_delete)\n",
    "\n",
    "# 1\n",
    "# return default_list[DEFAULT_USER_COUNT-2]\n",
    "# При однократном вызове этой функции все работает корректно:\n",
    "# delete_and_return_last_user(1)\n",
    "# ‘A101’\n",
    "\n",
    "# Однако, при повторном вызове получается ошибка IndexError: list index out of range.\n",
    "\n",
    "# Задание:\n",
    "\n",
    "# Что значит ошибка list index out of range?\n",
    "# Почему при первом запуске функция работает корректно, а при втором - нет?\n",
    "# Важно! замечание к заданию.\n",
    "\n",
    "# **** Для зачета достаточно сделать три задания! (четвертое бонусное)****\n",
    "\n",
    "# При копировании с сайта нетологии Jupyter ноутбук изменяет кавычки ’ на `. Прошу учесть данный факт и обращать внимание.\n",
    "# Достаточно просто заменить кавычки."
   ]
  },
  {
   "cell_type": "code",
   "execution_count": 11,
   "id": "e2af8290",
   "metadata": {},
   "outputs": [
    {
     "data": {
      "text/plain": [
       "datetime.datetime(1977, 8, 18, 0, 0)"
      ]
     },
     "execution_count": 11,
     "metadata": {},
     "output_type": "execute_result"
    }
   ],
   "source": [
    "# Задание 1\n",
    "# Печатные газеты использовали свой формат дат для каждого выпуска. Для каждой газеты из списка напишите \n",
    "# формат указанной даты для перевода в объект datetime:\n",
    "# The Moscow Times - Wednesday, October 2, 2002\n",
    "# The Guardian - Friday, 11.10.13\n",
    "# Daily News - Thursday, 18 August 1977\n",
    "\n",
    "import datetime as dt\n",
    "\n",
    "dt.datetime.strptime('Wednesday, October 2, 2002', '%A, %B %d, %Y')\n",
    "\n",
    "dt.datetime.strptime('Friday, 11.10.13', '%A, %d.%m.%y')\n",
    "\n",
    "dt.datetime.strptime('Thursday, 18 August 1977', '%A, %d %B %Y')"
   ]
  },
  {
   "cell_type": "code",
   "execution_count": 16,
   "id": "11d320f3",
   "metadata": {},
   "outputs": [
    {
     "name": "stdout",
     "output_type": "stream",
     "text": [
      "Date 2018-04-02 is correct:  True\n",
      "Date 2018-02-29 is correct:  False\n",
      "Date 2018-19-02 is correct:  False\n"
     ]
    }
   ],
   "source": [
    "# Задание 2\n",
    "# Дан поток дат в формате YYYY-MM-DD, в которых встречаются некорректные значения:\n",
    "# stream = [‘2018-04-02’, ‘2018-02-29’, ‘2018-19-02’]\n",
    "# Напишите функцию, которая проверяет эти даты на корректность. Т. е. для каждой даты возвращает True (дата корректна) или False (некорректная дата).\n",
    "\n",
    "stream = ['2018-04-02', '2018-02-29', '2018-19-02']\n",
    "\n",
    "def checkDt(dt_string):\n",
    "    try:\n",
    "        dt.datetime.strptime(dt_string, '%Y-%m-%d')\n",
    "        return True\n",
    "    except:\n",
    "        return False\n",
    "    \n",
    "for s in stream:\n",
    "    print(f'Date {s} is correct: ', checkDt(s))\n"
   ]
  },
  {
   "cell_type": "code",
   "execution_count": 70,
   "id": "14351d22",
   "metadata": {},
   "outputs": [
    {
     "name": "stdout",
     "output_type": "stream",
     "text": [
      "[datetime.datetime(2021, 1, 1, 0, 0), datetime.datetime(2021, 1, 2, 0, 0), datetime.datetime(2021, 1, 3, 0, 0), datetime.datetime(2021, 1, 4, 0, 0), datetime.datetime(2021, 1, 5, 0, 0), datetime.datetime(2021, 1, 6, 0, 0), datetime.datetime(2021, 1, 7, 0, 0), datetime.datetime(2021, 1, 8, 0, 0), datetime.datetime(2021, 1, 9, 0, 0)]\n",
      "[]\n",
      "[]\n"
     ]
    }
   ],
   "source": [
    "# Задание 3\n",
    "# Напишите функцию date_range, которая возвращает список \n",
    "# дат за период от start_date до end_date. Даты должны вводиться в формате YYYY-MM-DD. \n",
    "# В случае неверного формата или при start_date > end_date должен возвращаться пустой список.\n",
    "\n",
    "def dateRange(dt_str1, dt_str2):\n",
    "    try:\n",
    "        dt1 = dt.datetime.strptime(dt_str1, '%Y-%m-%d')\n",
    "        dt2 = dt.datetime.strptime(dt_str2, '%Y-%m-%d')\n",
    "        delta = dt2 - dt1\n",
    "        return [dt1 + dt.timedelta(days=i) for i in range(0,delta.days,1)]\n",
    "    except ValueError:\n",
    "        return []\n",
    "\n",
    "print(dateRange('2021-01-01', '2021-01-10'))\n",
    "\n",
    "print(dateRange('2021-01-11', '2021-01-10'))\n",
    "\n",
    "print(dateRange('2021-01-11', '2021-13-10'))"
   ]
  },
  {
   "cell_type": "code",
   "execution_count": 67,
   "id": "15bd13b7",
   "metadata": {},
   "outputs": [
    {
     "name": "stdout",
     "output_type": "stream",
     "text": [
      "['A100', 'A101', 'A102']\n",
      "A101\n",
      "['A100', 'A101', 'A102']\n",
      "A101\n"
     ]
    }
   ],
   "source": [
    "DEFAULT_USER_COUNT = 3\n",
    "\n",
    "def delete_and_return_last_user(region, default_list=['A100', 'A101','A102']):\n",
    "    print(default_list)\n",
    "    # # \"\"\"\n",
    "    # \"\"\"\n",
    "    # Удаляет из списка default_list последнего пользователя\n",
    "    # и возвращает ID нового последнего пользователя.\n",
    "    # \"\"\n",
    "    element_to_delete = default_list[-1]\n",
    "    default_list.remove(element_to_delete)\n",
    "    # 1\n",
    "    return default_list[DEFAULT_USER_COUNT-2]\n",
    "\n",
    "print(delete_and_return_last_user(1, ['A100', 'A101','A102']))\n",
    "print(delete_and_return_last_user(1, ['A100', 'A101','A102']))"
   ]
  }
 ],
 "metadata": {
  "kernelspec": {
   "display_name": "Python 3",
   "language": "python",
   "name": "python3"
  },
  "language_info": {
   "codemirror_mode": {
    "name": "ipython",
    "version": 3
   },
   "file_extension": ".py",
   "mimetype": "text/x-python",
   "name": "python",
   "nbconvert_exporter": "python",
   "pygments_lexer": "ipython3",
   "version": "3.8.8"
  }
 },
 "nbformat": 4,
 "nbformat_minor": 5
}
