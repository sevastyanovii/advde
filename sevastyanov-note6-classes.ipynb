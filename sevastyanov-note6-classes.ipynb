{
 "cells": [
  {
   "cell_type": "code",
   "execution_count": 1,
   "id": "2b6b30f4",
   "metadata": {},
   "outputs": [],
   "source": [
    "\n",
    "# # Задание 2\n",
    "# # Добавьте в класс Rate параметр diff (со значениями True или False), который в случае \n",
    "# значения True в методах курсов валют (eur, usd итд) будет возвращать не курс валюты, а изменение \n",
    "# по сравнению в прошлым значением. Считайте, self.diff будет принимать значение True только \n",
    "# при возврате значения курса. При отображении всей информации о валюте он не используется.\n",
    "\n",
    "# # Задание 3\n",
    "# # Напишите класс Designer, который учитывает количество международных премий. Подсказки \n",
    "# в коде занятия в разделе “Домашнее задание задача 3”.\n",
    "\n",
    "# # Комментарий по классу Designer такой:\n",
    "# # Напишите класс Designer, который учитывает количество международных премий для \n",
    "# дизайнеров (из презентации: “Повышение на 1 грейд за каждые 7 баллов. Получение \n",
    "#             международной премии – это +2 балла”). Считайте, что при выходе на работу \n",
    "# сотрудник уже имеет две премии и их количество не меняется со стажем (конечно если хотите это можно вручную менять).\n",
    "\n",
    "# # Класс Designer пишется по аналогии с классом Developer из материалов занятия. \n",
    "# Комментарий про его условия Вика написала выше: “Повышение на 1 грейд за каждые 7 баллов. \n",
    "#     Получение международной премии – это +2 балла”\n",
    "    "
   ]
  },
  {
   "cell_type": "code",
   "execution_count": 3,
   "id": "714ab778",
   "metadata": {
    "scrolled": true
   },
   "outputs": [
    {
     "name": "stdout",
     "output_type": "stream",
     "text": [
      "XDR\n"
     ]
    }
   ],
   "source": [
    "# # Задание 1\n",
    "# # Напишите функцию, которая возвращает название валюты (поле ‘Name’) с максимальным значением \n",
    "# курса с помощью сервиса www.cbr-xml-daily.ru...ly_json.js\n",
    "import requests\n",
    "\n",
    "def maxRate():\n",
    "    d = requests.get('https://www.cbr-xml-daily.ru/daily_json.js').json()['Valute']\n",
    "    return max(d, key=lambda k:d[k]['Value'])\n",
    "    \n",
    "print(maxRate())"
   ]
  }
 ],
 "metadata": {
  "kernelspec": {
   "display_name": "Python 3",
   "language": "python",
   "name": "python3"
  },
  "language_info": {
   "codemirror_mode": {
    "name": "ipython",
    "version": 3
   },
   "file_extension": ".py",
   "mimetype": "text/x-python",
   "name": "python",
   "nbconvert_exporter": "python",
   "pygments_lexer": "ipython3",
   "version": "3.8.8"
  }
 },
 "nbformat": 4,
 "nbformat_minor": 5
}
